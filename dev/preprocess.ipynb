{
 "cells": [
  {
   "cell_type": "code",
   "execution_count": null,
   "metadata": {},
   "outputs": [],
   "source": [
    "from dataclasses import dataclass\n",
    "from datetime import datetime\n",
    "\n",
    "@dataclass\n",
    "class Regexes:\n",
    "    timestamp = r\"(?<=\\[)\\d{2}-\\d{2}-\\d{4} \\d{2}:\\d{2}:\\d{2}(?=\\])\"\n",
    "    author = r\"(?<=\\]\\s)(.*?)(?=:)\"\n",
    "    clear = r\"\\[\\d{2}-\\d{2}-\\d{4} \\d{2}:\\d{2}:\\d{2}\\]\\s[~a-zA-Z\\s]+:\""
   ]
  },
  {
   "cell_type": "code",
   "execution_count": null,
   "metadata": {},
   "outputs": [],
   "source": [
    "regexes = Regexes()"
   ]
  },
  {
   "cell_type": "code",
   "execution_count": null,
   "metadata": {},
   "outputs": [],
   "source": [
    "from pathlib import Path\n",
    "datafile = Path(\"../data/raw/chat.txt\")\n",
    "datafile.exists()"
   ]
  },
  {
   "cell_type": "code",
   "execution_count": null,
   "metadata": {},
   "outputs": [],
   "source": [
    "import re\n",
    "records = []\n",
    "with datafile.open() as f:\n",
    "    for line in f.readlines():\n",
    "        ts = re.search(regexes.timestamp, line)\n",
    "        if ts:\n",
    "            timestamp = datetime.strptime(ts.group(0), \"%d-%m-%Y %H:%M:%S\")\n",
    "            msg = re.sub(regexes.clear, \"\", line)\n",
    "            author = re.search(regexes.author, line)\n",
    "            if author:\n",
    "                author = author.group(0)\n",
    "            records.append((timestamp, author, msg))\n",
    "        else:\n",
    "            msg = msg + re.sub(regexes.clear, \"\", line)\n",
    "            records[-1] = (timestamp, author, msg)\n"
   ]
  },
  {
   "cell_type": "code",
   "execution_count": null,
   "metadata": {},
   "outputs": [],
   "source": [
    "import pandas as pd\n",
    "df = pd.DataFrame(records, columns=[\"timestamp\", \"author\", \"message\"])"
   ]
  },
  {
   "cell_type": "code",
   "execution_count": null,
   "metadata": {},
   "outputs": [],
   "source": [
    "df.to_csv(\"../data/processed/chat.csv\", index=False)"
   ]
  },
  {
   "cell_type": "code",
   "execution_count": null,
   "metadata": {},
   "outputs": [],
   "source": [
    "df.dtypes"
   ]
  },
  {
   "cell_type": "code",
   "execution_count": null,
   "metadata": {},
   "outputs": [],
   "source": []
  }
 ],
 "metadata": {
  "kernelspec": {
   "display_name": ".venv",
   "language": "python",
   "name": "python3"
  },
  "language_info": {
   "codemirror_mode": {
    "name": "ipython",
    "version": 3
   },
   "file_extension": ".py",
   "mimetype": "text/x-python",
   "name": "python",
   "nbconvert_exporter": "python",
   "pygments_lexer": "ipython3",
   "version": "3.11.5"
  }
 },
 "nbformat": 4,
 "nbformat_minor": 2
}
