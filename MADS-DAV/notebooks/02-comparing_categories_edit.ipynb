{
 "cells": [
  {
   "cell_type": "code",
   "execution_count": 2,
   "metadata": {},
   "outputs": [],
   "source": [
    "import seaborn as sns\n",
    "import matplotlib.pyplot as plt\n",
    "import pandas as pd\n",
    "from pathlib import Path\n",
    "from loguru import logger\n",
    "import warnings\n",
    "\n",
    "warnings.simplefilter(action=\"ignore\", category=FutureWarning)"
   ]
  },
  {
   "cell_type": "markdown",
   "metadata": {},
   "source": [
    "Let's load the parquetfile we saved in notebook 1. You will need to change the filename in the config file!"
   ]
  },
  {
   "cell_type": "code",
   "execution_count": 3,
   "metadata": {},
   "outputs": [
    {
     "data": {
      "text/plain": [
       "{'raw': 'data/raw',\n",
       " 'processed': 'data/processed',\n",
       " 'input': '_chat.txt',\n",
       " 'current': '/Users/floridomeacci/Documents/HU/MADS-DAV/data/processed/this.parq',\n",
       " 'inputpath': '/Users/floridomeacci/Documents/HU/MADS-DAV/data/processed/this.csv',\n",
       " 'datetime_format': '%m/%d/%y, %H:%M',\n",
       " 'drop_authors': []}"
      ]
     },
     "execution_count": 3,
     "metadata": {},
     "output_type": "execute_result"
    }
   ],
   "source": [
    "import tomllib\n",
    "\n",
    "configfile = Path(\"../config.toml\").resolve()\n",
    "with configfile.open(\"rb\") as f:\n",
    "    config = tomllib.load(f)\n",
    "config"
   ]
  },
  {
   "cell_type": "code",
   "execution_count": 4,
   "metadata": {},
   "outputs": [],
   "source": [
    "root = Path(\"..\").resolve()\n",
    "processed = root / Path(config[\"processed\"])\n",
    "datafile = processed / config[\"current\"]\n",
    "if not datafile.exists():\n",
    "    logger.warning(\n",
    "        f\"{datafile} does not exist. First run src/preprocess.py, and check the timestamp!\"\n",
    "    )"
   ]
  },
  {
   "cell_type": "markdown",
   "metadata": {},
   "source": [
    "Note how datatypes have been preserved."
   ]
  },
  {
   "cell_type": "code",
   "execution_count": 5,
   "metadata": {},
   "outputs": [
    {
     "data": {
      "text/plain": [
       "timestamp    datetime64[ns, UTC]\n",
       "message                   object\n",
       "author                    object\n",
       "has_emoji                   bool\n",
       "dtype: object"
      ]
     },
     "execution_count": 5,
     "metadata": {},
     "output_type": "execute_result"
    }
   ],
   "source": [
    "df = pd.read_parquet(datafile)\n",
    "df.dtypes"
   ]
  },
  {
   "cell_type": "code",
   "execution_count": 6,
   "metadata": {},
   "outputs": [
    {
     "data": {
      "text/html": [
       "<div>\n",
       "<style scoped>\n",
       "    .dataframe tbody tr th:only-of-type {\n",
       "        vertical-align: middle;\n",
       "    }\n",
       "\n",
       "    .dataframe tbody tr th {\n",
       "        vertical-align: top;\n",
       "    }\n",
       "\n",
       "    .dataframe thead th {\n",
       "        text-align: right;\n",
       "    }\n",
       "</style>\n",
       "<table border=\"1\" class=\"dataframe\">\n",
       "  <thead>\n",
       "    <tr style=\"text-align: right;\">\n",
       "      <th></th>\n",
       "      <th>timestamp</th>\n",
       "      <th>message</th>\n",
       "      <th>author</th>\n",
       "      <th>has_emoji</th>\n",
       "    </tr>\n",
       "  </thead>\n",
       "  <tbody>\n",
       "    <tr>\n",
       "      <th>0</th>\n",
       "      <td>2022-02-17 13:15:00+00:00</td>\n",
       "      <td>Wohoo Birthday boy @⁨Fei⁩  🎉🎉🎉🎉🎉🎉</td>\n",
       "      <td>jesting-duck</td>\n",
       "      <td>True</td>\n",
       "    </tr>\n",
       "    <tr>\n",
       "      <th>1</th>\n",
       "      <td>2022-02-17 13:15:00+00:00</td>\n",
       "      <td>Many wishes!!! From all of us🤗😘😘🎊</td>\n",
       "      <td>jesting-duck</td>\n",
       "      <td>True</td>\n",
       "    </tr>\n",
       "    <tr>\n",
       "      <th>2</th>\n",
       "      <td>2022-02-17 13:28:00+00:00</td>\n",
       "      <td>Auguri 🎂🎂🎉🎉</td>\n",
       "      <td>translucent-dinosaur</td>\n",
       "      <td>True</td>\n",
       "    </tr>\n",
       "    <tr>\n",
       "      <th>3</th>\n",
       "      <td>2022-02-17 13:35:00+00:00</td>\n",
       "      <td>Thank you guys! 🥰🥰 so many wishes!</td>\n",
       "      <td>foamy-jackal</td>\n",
       "      <td>False</td>\n",
       "    </tr>\n",
       "    <tr>\n",
       "      <th>4</th>\n",
       "      <td>2022-02-17 13:48:00+00:00</td>\n",
       "      <td>And good luck tomorrow!!!!! 🤞🤞🤞</td>\n",
       "      <td>jesting-duck</td>\n",
       "      <td>False</td>\n",
       "    </tr>\n",
       "  </tbody>\n",
       "</table>\n",
       "</div>"
      ],
      "text/plain": [
       "                  timestamp                             message  \\\n",
       "0 2022-02-17 13:15:00+00:00   Wohoo Birthday boy @⁨Fei⁩  🎉🎉🎉🎉🎉🎉   \n",
       "1 2022-02-17 13:15:00+00:00   Many wishes!!! From all of us🤗😘😘🎊   \n",
       "2 2022-02-17 13:28:00+00:00                         Auguri 🎂🎂🎉🎉   \n",
       "3 2022-02-17 13:35:00+00:00  Thank you guys! 🥰🥰 so many wishes!   \n",
       "4 2022-02-17 13:48:00+00:00     And good luck tomorrow!!!!! 🤞🤞🤞   \n",
       "\n",
       "                 author  has_emoji  \n",
       "0          jesting-duck       True  \n",
       "1          jesting-duck       True  \n",
       "2  translucent-dinosaur       True  \n",
       "3          foamy-jackal      False  \n",
       "4          jesting-duck      False  "
      ]
     },
     "execution_count": 6,
     "metadata": {},
     "output_type": "execute_result"
    }
   ],
   "source": [
    "df.head()"
   ]
  },
  {
   "cell_type": "markdown",
   "metadata": {},
   "source": [
    "Let's count the amount of messages, per author."
   ]
  },
  {
   "cell_type": "code",
   "execution_count": 7,
   "metadata": {},
   "outputs": [],
   "source": [
    "p1 = (\n",
    "    df[[\"author\", \"message\"]]\n",
    "    .groupby(\"author\")\n",
    "    .count()\n",
    "    .sort_values(\"message\", ascending=False)\n",
    ")\n",
    "\n",
    "k = 15\n",
    "topk = p1[:k]"
   ]
  },
  {
   "cell_type": "code",
   "execution_count": 8,
   "metadata": {},
   "outputs": [],
   "source": [
    "topk_authors = list(topk.index)"
   ]
  },
  {
   "cell_type": "code",
   "execution_count": 9,
   "metadata": {},
   "outputs": [
    {
     "data": {
      "text/html": [
       "<div>\n",
       "<style scoped>\n",
       "    .dataframe tbody tr th:only-of-type {\n",
       "        vertical-align: middle;\n",
       "    }\n",
       "\n",
       "    .dataframe tbody tr th {\n",
       "        vertical-align: top;\n",
       "    }\n",
       "\n",
       "    .dataframe thead th {\n",
       "        text-align: right;\n",
       "    }\n",
       "</style>\n",
       "<table border=\"1\" class=\"dataframe\">\n",
       "  <thead>\n",
       "    <tr style=\"text-align: right;\">\n",
       "      <th></th>\n",
       "      <th>timestamp</th>\n",
       "      <th>message</th>\n",
       "      <th>author</th>\n",
       "      <th>has_emoji</th>\n",
       "      <th>is_topk</th>\n",
       "    </tr>\n",
       "  </thead>\n",
       "  <tbody>\n",
       "    <tr>\n",
       "      <th>0</th>\n",
       "      <td>2022-02-17 13:15:00+00:00</td>\n",
       "      <td>Wohoo Birthday boy @⁨Fei⁩  🎉🎉🎉🎉🎉🎉</td>\n",
       "      <td>jesting-duck</td>\n",
       "      <td>True</td>\n",
       "      <td>True</td>\n",
       "    </tr>\n",
       "    <tr>\n",
       "      <th>1</th>\n",
       "      <td>2022-02-17 13:15:00+00:00</td>\n",
       "      <td>Many wishes!!! From all of us🤗😘😘🎊</td>\n",
       "      <td>jesting-duck</td>\n",
       "      <td>True</td>\n",
       "      <td>True</td>\n",
       "    </tr>\n",
       "    <tr>\n",
       "      <th>2</th>\n",
       "      <td>2022-02-17 13:28:00+00:00</td>\n",
       "      <td>Auguri 🎂🎂🎉🎉</td>\n",
       "      <td>translucent-dinosaur</td>\n",
       "      <td>True</td>\n",
       "      <td>True</td>\n",
       "    </tr>\n",
       "    <tr>\n",
       "      <th>3</th>\n",
       "      <td>2022-02-17 13:35:00+00:00</td>\n",
       "      <td>Thank you guys! 🥰🥰 so many wishes!</td>\n",
       "      <td>foamy-jackal</td>\n",
       "      <td>False</td>\n",
       "      <td>True</td>\n",
       "    </tr>\n",
       "    <tr>\n",
       "      <th>4</th>\n",
       "      <td>2022-02-17 13:48:00+00:00</td>\n",
       "      <td>And good luck tomorrow!!!!! 🤞🤞🤞</td>\n",
       "      <td>jesting-duck</td>\n",
       "      <td>False</td>\n",
       "      <td>True</td>\n",
       "    </tr>\n",
       "  </tbody>\n",
       "</table>\n",
       "</div>"
      ],
      "text/plain": [
       "                  timestamp                             message  \\\n",
       "0 2022-02-17 13:15:00+00:00   Wohoo Birthday boy @⁨Fei⁩  🎉🎉🎉🎉🎉🎉   \n",
       "1 2022-02-17 13:15:00+00:00   Many wishes!!! From all of us🤗😘😘🎊   \n",
       "2 2022-02-17 13:28:00+00:00                         Auguri 🎂🎂🎉🎉   \n",
       "3 2022-02-17 13:35:00+00:00  Thank you guys! 🥰🥰 so many wishes!   \n",
       "4 2022-02-17 13:48:00+00:00     And good luck tomorrow!!!!! 🤞🤞🤞   \n",
       "\n",
       "                 author  has_emoji  is_topk  \n",
       "0          jesting-duck       True     True  \n",
       "1          jesting-duck       True     True  \n",
       "2  translucent-dinosaur       True     True  \n",
       "3          foamy-jackal      False     True  \n",
       "4          jesting-duck      False     True  "
      ]
     },
     "execution_count": 9,
     "metadata": {},
     "output_type": "execute_result"
    }
   ],
   "source": [
    "df[\"is_topk\"] = df[\"author\"].apply(lambda x: x in topk_authors)\n",
    "df.head()"
   ]
  },
  {
   "cell_type": "code",
   "execution_count": 10,
   "metadata": {},
   "outputs": [
    {
     "data": {
      "text/plain": [
       "Text(0.5, 1.0, 'Sending the most messages...')"
      ]
     },
     "execution_count": 10,
     "metadata": {},
     "output_type": "execute_result"
    },
    {
     "data": {
      "image/png": "[encoded data removed]",
      "text/plain": [
       "<Figure size 1200x600 with 1 Axes>"
      ]
     },
     "metadata": {},
     "output_type": "display_data"
    }
   ],
   "source": [
    "plt.figure(figsize=(12, 6))\n",
    "sns.barplot(y=p1.index[:k], x=\"message\", data=topk)\n",
    "plt.xticks(rotation=90)\n",
    "plt.title(\"Sending the most messages...\")"
   ]
  },
  {
   "cell_type": "markdown",
   "metadata": {},
   "source": [
    "Maybe tweak the colors a bit"
   ]
  },
  {
   "cell_type": "code",
   "execution_count": 11,
   "metadata": {},
   "outputs": [
    {
     "data": {
      "text/plain": [
       "Text(0.5, 1.0, 'Sending the most messages...')"
      ]
     },
     "execution_count": 11,
     "metadata": {},
     "output_type": "execute_result"
    },
    {
     "data": {
      "image/png": "[encoded data removed]",
      "text/plain": [
       "<Figure size 640x480 with 1 Axes>"
      ]
     },
     "metadata": {},
     "output_type": "display_data"
    }
   ],
   "source": [
    "colors = [0 if x < 1000 else 1 for x in topk.message]\n",
    "custom_palette = {0: \"grey\", 1: \"red\"}\n",
    "sns.barplot(\n",
    "    y=p1.index[:k],\n",
    "    x=\"message\",\n",
    "    hue=colors,\n",
    "    data=topk,\n",
    "    palette=custom_palette,\n",
    "    legend=False,\n",
    ")\n",
    "plt.title(\"Sending the most messages...\")"
   ]
  },
  {
   "cell_type": "markdown",
   "metadata": {},
   "source": [
    "Let's calculate the average message length."
   ]
  },
  {
   "cell_type": "code",
   "execution_count": 12,
   "metadata": {},
   "outputs": [
    {
     "data": {
      "text/plain": [
       "Text(0.5, 1.0, 'Sending the longest messages...')"
      ]
     },
     "execution_count": 12,
     "metadata": {},
     "output_type": "execute_result"
    },
    {
     "data": {
      "image/png": "[encoded data removed]",
      "text/plain": [
       "<Figure size 640x480 with 1 Axes>"
      ]
     },
     "metadata": {},
     "output_type": "display_data"
    }
   ],
   "source": [
    "df[\"message_length\"] = df[\"message\"].str.len()\n",
    "p1 = (\n",
    "    df[[\"author\", \"message_length\"]]\n",
    "    .groupby(\"author\")\n",
    "    .mean()\n",
    "    .sort_values(\"message_length\", ascending=False)\n",
    ")\n",
    "k = 15\n",
    "topk = p1[:k]\n",
    "sns.barplot(y=p1.index[:k], x=\"message_length\", data=topk)\n",
    "plt.xlabel(\"Average message length\")\n",
    "plt.title(\"Sending the longest messages...\")"
   ]
  },
  {
   "cell_type": "markdown",
   "metadata": {},
   "source": [
    "Create a simple regex to look for links in the messages and add that as a feature:"
   ]
  },
  {
   "cell_type": "code",
   "execution_count": 13,
   "metadata": {},
   "outputs": [
    {
     "data": {
      "image/png": "[encoded data removed]",
      "text/plain": [
       "<Figure size 640x480 with 1 Axes>"
      ]
     },
     "metadata": {},
     "output_type": "display_data"
    }
   ],
   "source": [
    "has_link = r\"http\"\n",
    "df[\"has_link\"] = df[\"message\"].str.contains(has_link)\n",
    "if df[\"has_link\"].sum() > 0:\n",
    "    p1 = (\n",
    "        df[[\"author\", \"has_link\"]]\n",
    "        .groupby(\"author\")\n",
    "        .mean()\n",
    "        .sort_values(\"has_link\", ascending=False)\n",
    "    )\n",
    "\n",
    "    k = 15\n",
    "    topk = p1[:k]\n",
    "    sns.barplot(y=p1.index[:k], x=\"has_link\", data=topk)\n",
    "    plt.xlabel(\"Fraction of messages with a link\")\n",
    "    plt.title(\"Most links by...\")\n",
    "else:\n",
    "    logger.info(\"No links found in the messages\")"
   ]
  },
  {
   "cell_type": "markdown",
   "metadata": {},
   "source": [
    "Aggregate the emojis per user (can you change between sum and mean?)"
   ]
  },
  {
   "cell_type": "code",
   "execution_count": 14,
   "metadata": {},
   "outputs": [
    {
     "data": {
      "text/plain": [
       "Text(0.5, 1.0, \"Are emoji's non-verbal?\")"
      ]
     },
     "execution_count": 14,
     "metadata": {},
     "output_type": "execute_result"
    },
    {
     "data": {
      "image/png": "[encoded data removed]",
      "text/plain": [
       "<Figure size 640x480 with 1 Axes>"
      ]
     },
     "metadata": {},
     "output_type": "display_data"
    }
   ],
   "source": [
    "p2 = (\n",
    "    df[[\"author\", \"has_emoji\"]]\n",
    "    .groupby(\"author\")\n",
    "    .agg([\"sum\", \"mean\"])\n",
    "    .sort_values((\"has_emoji\", \"sum\"), ascending=False)\n",
    ")\n",
    "\n",
    "p2.columns = p2.columns.droplevel(0)\n",
    "topk = p2[:k]\n",
    "sns.barplot(y=p2.index[:k], x=\"mean\", data=topk)\n",
    "plt.xlabel(\"Average number of messages with an emoji\")\n",
    "plt.title(\"Are emoji's non-verbal?\")"
   ]
  },
  {
   "cell_type": "markdown",
   "metadata": {},
   "source": [
    "Let's add a cateory, based on the time when authors send a message:"
   ]
  },
  {
   "cell_type": "code",
   "execution_count": 15,
   "metadata": {},
   "outputs": [
    {
     "data": {
      "text/html": [
       "<div>\n",
       "<style scoped>\n",
       "    .dataframe tbody tr th:only-of-type {\n",
       "        vertical-align: middle;\n",
       "    }\n",
       "\n",
       "    .dataframe tbody tr th {\n",
       "        vertical-align: top;\n",
       "    }\n",
       "\n",
       "    .dataframe thead th {\n",
       "        text-align: right;\n",
       "    }\n",
       "</style>\n",
       "<table border=\"1\" class=\"dataframe\">\n",
       "  <thead>\n",
       "    <tr style=\"text-align: right;\">\n",
       "      <th></th>\n",
       "      <th>timestamp</th>\n",
       "      <th>message</th>\n",
       "      <th>author</th>\n",
       "      <th>has_emoji</th>\n",
       "      <th>is_topk</th>\n",
       "      <th>message_length</th>\n",
       "      <th>has_link</th>\n",
       "      <th>timestamp_category</th>\n",
       "    </tr>\n",
       "  </thead>\n",
       "  <tbody>\n",
       "    <tr>\n",
       "      <th>0</th>\n",
       "      <td>2022-02-17 13:15:00+00:00</td>\n",
       "      <td>Wohoo Birthday boy @⁨Fei⁩  🎉🎉🎉🎉🎉🎉</td>\n",
       "      <td>jesting-duck</td>\n",
       "      <td>True</td>\n",
       "      <td>True</td>\n",
       "      <td>33.0</td>\n",
       "      <td>False</td>\n",
       "      <td>worktimes</td>\n",
       "    </tr>\n",
       "    <tr>\n",
       "      <th>1</th>\n",
       "      <td>2022-02-17 13:15:00+00:00</td>\n",
       "      <td>Many wishes!!! From all of us🤗😘😘🎊</td>\n",
       "      <td>jesting-duck</td>\n",
       "      <td>True</td>\n",
       "      <td>True</td>\n",
       "      <td>33.0</td>\n",
       "      <td>False</td>\n",
       "      <td>worktimes</td>\n",
       "    </tr>\n",
       "    <tr>\n",
       "      <th>2</th>\n",
       "      <td>2022-02-17 13:28:00+00:00</td>\n",
       "      <td>Auguri 🎂🎂🎉🎉</td>\n",
       "      <td>translucent-dinosaur</td>\n",
       "      <td>True</td>\n",
       "      <td>True</td>\n",
       "      <td>11.0</td>\n",
       "      <td>False</td>\n",
       "      <td>worktimes</td>\n",
       "    </tr>\n",
       "    <tr>\n",
       "      <th>3</th>\n",
       "      <td>2022-02-17 13:35:00+00:00</td>\n",
       "      <td>Thank you guys! 🥰🥰 so many wishes!</td>\n",
       "      <td>foamy-jackal</td>\n",
       "      <td>False</td>\n",
       "      <td>True</td>\n",
       "      <td>34.0</td>\n",
       "      <td>False</td>\n",
       "      <td>worktimes</td>\n",
       "    </tr>\n",
       "    <tr>\n",
       "      <th>4</th>\n",
       "      <td>2022-02-17 13:48:00+00:00</td>\n",
       "      <td>And good luck tomorrow!!!!! 🤞🤞🤞</td>\n",
       "      <td>jesting-duck</td>\n",
       "      <td>False</td>\n",
       "      <td>True</td>\n",
       "      <td>31.0</td>\n",
       "      <td>False</td>\n",
       "      <td>worktimes</td>\n",
       "    </tr>\n",
       "    <tr>\n",
       "      <th>...</th>\n",
       "      <td>...</td>\n",
       "      <td>...</td>\n",
       "      <td>...</td>\n",
       "      <td>...</td>\n",
       "      <td>...</td>\n",
       "      <td>...</td>\n",
       "      <td>...</td>\n",
       "      <td>...</td>\n",
       "    </tr>\n",
       "    <tr>\n",
       "      <th>2559</th>\n",
       "      <td>2025-09-08 08:47:00+00:00</td>\n",
       "      <td>&lt;Media omitted&gt;</td>\n",
       "      <td>coltish-magpie</td>\n",
       "      <td>False</td>\n",
       "      <td>True</td>\n",
       "      <td>15.0</td>\n",
       "      <td>False</td>\n",
       "      <td>worktimes</td>\n",
       "    </tr>\n",
       "    <tr>\n",
       "      <th>2560</th>\n",
       "      <td>2025-09-08 08:47:00+00:00</td>\n",
       "      <td>First day🎉🥲</td>\n",
       "      <td>coltish-magpie</td>\n",
       "      <td>True</td>\n",
       "      <td>True</td>\n",
       "      <td>11.0</td>\n",
       "      <td>False</td>\n",
       "      <td>worktimes</td>\n",
       "    </tr>\n",
       "    <tr>\n",
       "      <th>2561</th>\n",
       "      <td>2025-09-08 08:47:00+00:00</td>\n",
       "      <td>So cute!!!! With the plantje 🤩🤗</td>\n",
       "      <td>jesting-duck</td>\n",
       "      <td>False</td>\n",
       "      <td>True</td>\n",
       "      <td>31.0</td>\n",
       "      <td>False</td>\n",
       "      <td>worktimes</td>\n",
       "    </tr>\n",
       "    <tr>\n",
       "      <th>2562</th>\n",
       "      <td>2025-09-08 08:47:00+00:00</td>\n",
       "      <td>Cute! With little pot</td>\n",
       "      <td>foamy-jackal</td>\n",
       "      <td>False</td>\n",
       "      <td>True</td>\n",
       "      <td>21.0</td>\n",
       "      <td>False</td>\n",
       "      <td>worktimes</td>\n",
       "    </tr>\n",
       "    <tr>\n",
       "      <th>2563</th>\n",
       "      <td>2025-09-08 09:35:00+00:00</td>\n",
       "      <td>Nice! Good luck with the first day!</td>\n",
       "      <td>kidding-goshawk</td>\n",
       "      <td>False</td>\n",
       "      <td>True</td>\n",
       "      <td>35.0</td>\n",
       "      <td>False</td>\n",
       "      <td>worktimes</td>\n",
       "    </tr>\n",
       "  </tbody>\n",
       "</table>\n",
       "<p>2564 rows × 8 columns</p>\n",
       "</div>"
      ],
      "text/plain": [
       "                     timestamp                              message  \\\n",
       "0    2022-02-17 13:15:00+00:00    Wohoo Birthday boy @⁨Fei⁩  🎉🎉🎉🎉🎉🎉   \n",
       "1    2022-02-17 13:15:00+00:00    Many wishes!!! From all of us🤗😘😘🎊   \n",
       "2    2022-02-17 13:28:00+00:00                          Auguri 🎂🎂🎉🎉   \n",
       "3    2022-02-17 13:35:00+00:00   Thank you guys! 🥰🥰 so many wishes!   \n",
       "4    2022-02-17 13:48:00+00:00      And good luck tomorrow!!!!! 🤞🤞🤞   \n",
       "...                        ...                                  ...   \n",
       "2559 2025-09-08 08:47:00+00:00                      <Media omitted>   \n",
       "2560 2025-09-08 08:47:00+00:00                          First day🎉🥲   \n",
       "2561 2025-09-08 08:47:00+00:00      So cute!!!! With the plantje 🤩🤗   \n",
       "2562 2025-09-08 08:47:00+00:00                Cute! With little pot   \n",
       "2563 2025-09-08 09:35:00+00:00  Nice! Good luck with the first day!   \n",
       "\n",
       "                    author  has_emoji  is_topk  message_length has_link  \\\n",
       "0             jesting-duck       True     True            33.0    False   \n",
       "1             jesting-duck       True     True            33.0    False   \n",
       "2     translucent-dinosaur       True     True            11.0    False   \n",
       "3             foamy-jackal      False     True            34.0    False   \n",
       "4             jesting-duck      False     True            31.0    False   \n",
       "...                    ...        ...      ...             ...      ...   \n",
       "2559        coltish-magpie      False     True            15.0    False   \n",
       "2560        coltish-magpie       True     True            11.0    False   \n",
       "2561          jesting-duck      False     True            31.0    False   \n",
       "2562          foamy-jackal      False     True            21.0    False   \n",
       "2563       kidding-goshawk      False     True            35.0    False   \n",
       "\n",
       "     timestamp_category  \n",
       "0             worktimes  \n",
       "1             worktimes  \n",
       "2             worktimes  \n",
       "3             worktimes  \n",
       "4             worktimes  \n",
       "...                 ...  \n",
       "2559          worktimes  \n",
       "2560          worktimes  \n",
       "2561          worktimes  \n",
       "2562          worktimes  \n",
       "2563          worktimes  \n",
       "\n",
       "[2564 rows x 8 columns]"
      ]
     },
     "execution_count": 15,
     "metadata": {},
     "output_type": "execute_result"
    }
   ],
   "source": [
    "import pandas as pd\n",
    "\n",
    "# Define the time ranges\n",
    "time_ranges = [\"00:00\", \"06:00\", \"08:00\", \"17:30\", \"22:00\", \"23:59\"]\n",
    "# Define the category labels\n",
    "categories = [\"night\", \"morning\", \"worktimes\", \"evening\", \"late\"]\n",
    "# Categorize the timestamp column\n",
    "df[\"timestamp_category\"] = pd.cut(\n",
    "    df[\"timestamp\"].dt.time.astype(str),\n",
    "    bins=time_ranges,\n",
    "    labels=categories,\n",
    "    right=False,\n",
    ")\n",
    "# Display the updated dataframe\n",
    "df"
   ]
  },
  {
   "cell_type": "markdown",
   "metadata": {},
   "source": [
    "Now we can group and count the categories:"
   ]
  },
  {
   "cell_type": "code",
   "execution_count": 16,
   "metadata": {},
   "outputs": [
    {
     "data": {
      "text/html": [
       "<div>\n",
       "<style scoped>\n",
       "    .dataframe tbody tr th:only-of-type {\n",
       "        vertical-align: middle;\n",
       "    }\n",
       "\n",
       "    .dataframe tbody tr th {\n",
       "        vertical-align: top;\n",
       "    }\n",
       "\n",
       "    .dataframe thead th {\n",
       "        text-align: right;\n",
       "    }\n",
       "</style>\n",
       "<table border=\"1\" class=\"dataframe\">\n",
       "  <thead>\n",
       "    <tr style=\"text-align: right;\">\n",
       "      <th>timestamp_category</th>\n",
       "      <th>night</th>\n",
       "      <th>morning</th>\n",
       "      <th>worktimes</th>\n",
       "      <th>evening</th>\n",
       "      <th>late</th>\n",
       "    </tr>\n",
       "    <tr>\n",
       "      <th>author</th>\n",
       "      <th></th>\n",
       "      <th></th>\n",
       "      <th></th>\n",
       "      <th></th>\n",
       "      <th></th>\n",
       "    </tr>\n",
       "  </thead>\n",
       "  <tbody>\n",
       "    <tr>\n",
       "      <th>coltish-magpie</th>\n",
       "      <td>0.000000</td>\n",
       "      <td>0.000000</td>\n",
       "      <td>0.696203</td>\n",
       "      <td>0.265823</td>\n",
       "      <td>0.037975</td>\n",
       "    </tr>\n",
       "    <tr>\n",
       "      <th>foamy-jackal</th>\n",
       "      <td>0.006033</td>\n",
       "      <td>0.004525</td>\n",
       "      <td>0.542986</td>\n",
       "      <td>0.300151</td>\n",
       "      <td>0.146305</td>\n",
       "    </tr>\n",
       "    <tr>\n",
       "      <th>jesting-duck</th>\n",
       "      <td>0.003584</td>\n",
       "      <td>0.005974</td>\n",
       "      <td>0.526882</td>\n",
       "      <td>0.346476</td>\n",
       "      <td>0.117085</td>\n",
       "    </tr>\n",
       "    <tr>\n",
       "      <th>kidding-goshawk</th>\n",
       "      <td>0.011029</td>\n",
       "      <td>0.000000</td>\n",
       "      <td>0.503676</td>\n",
       "      <td>0.404412</td>\n",
       "      <td>0.080882</td>\n",
       "    </tr>\n",
       "    <tr>\n",
       "      <th>scintillating-trout</th>\n",
       "      <td>0.004525</td>\n",
       "      <td>0.004525</td>\n",
       "      <td>0.674208</td>\n",
       "      <td>0.153846</td>\n",
       "      <td>0.162896</td>\n",
       "    </tr>\n",
       "    <tr>\n",
       "      <th>sidesplitting-locust</th>\n",
       "      <td>0.003115</td>\n",
       "      <td>0.012461</td>\n",
       "      <td>0.694704</td>\n",
       "      <td>0.242991</td>\n",
       "      <td>0.046729</td>\n",
       "    </tr>\n",
       "    <tr>\n",
       "      <th>translucent-dinosaur</th>\n",
       "      <td>0.017647</td>\n",
       "      <td>0.005882</td>\n",
       "      <td>0.611765</td>\n",
       "      <td>0.288235</td>\n",
       "      <td>0.076471</td>\n",
       "    </tr>\n",
       "  </tbody>\n",
       "</table>\n",
       "</div>"
      ],
      "text/plain": [
       "timestamp_category       night   morning  worktimes   evening      late\n",
       "author                                                                 \n",
       "coltish-magpie        0.000000  0.000000   0.696203  0.265823  0.037975\n",
       "foamy-jackal          0.006033  0.004525   0.542986  0.300151  0.146305\n",
       "jesting-duck          0.003584  0.005974   0.526882  0.346476  0.117085\n",
       "kidding-goshawk       0.011029  0.000000   0.503676  0.404412  0.080882\n",
       "scintillating-trout   0.004525  0.004525   0.674208  0.153846  0.162896\n",
       "sidesplitting-locust  0.003115  0.012461   0.694704  0.242991  0.046729\n",
       "translucent-dinosaur  0.017647  0.005882   0.611765  0.288235  0.076471"
      ]
     },
     "execution_count": 16,
     "metadata": {},
     "output_type": "execute_result"
    }
   ],
   "source": [
    "# Group the dataframe by 'author' and 'timestamp_category', and count the occurrences\n",
    "p3 = df.groupby([\"author\", \"timestamp_category\"]).size().unstack()\n",
    "\n",
    "# Calculate the fraction of each category for every author\n",
    "p3_frac = p3.div(p3.sum(axis=1), axis=0)\n",
    "p3_frac"
   ]
  },
  {
   "cell_type": "markdown",
   "metadata": {},
   "source": [
    "Let's use plotly the create a stacked bar chart:"
   ]
  },
  {
   "cell_type": "code",
   "execution_count": 17,
   "metadata": {},
   "outputs": [
    {
     "data": {
      "text/html": [
       "<div>\n",
       "<style scoped>\n",
       "    .dataframe tbody tr th:only-of-type {\n",
       "        vertical-align: middle;\n",
       "    }\n",
       "\n",
       "    .dataframe tbody tr th {\n",
       "        vertical-align: top;\n",
       "    }\n",
       "\n",
       "    .dataframe thead th {\n",
       "        text-align: right;\n",
       "    }\n",
       "</style>\n",
       "<table border=\"1\" class=\"dataframe\">\n",
       "  <thead>\n",
       "    <tr style=\"text-align: right;\">\n",
       "      <th></th>\n",
       "      <th>author</th>\n",
       "      <th>timestamp_category</th>\n",
       "      <th>value</th>\n",
       "    </tr>\n",
       "  </thead>\n",
       "  <tbody>\n",
       "    <tr>\n",
       "      <th>0</th>\n",
       "      <td>coltish-magpie</td>\n",
       "      <td>night</td>\n",
       "      <td>0.000000</td>\n",
       "    </tr>\n",
       "    <tr>\n",
       "      <th>1</th>\n",
       "      <td>foamy-jackal</td>\n",
       "      <td>night</td>\n",
       "      <td>0.006033</td>\n",
       "    </tr>\n",
       "    <tr>\n",
       "      <th>2</th>\n",
       "      <td>jesting-duck</td>\n",
       "      <td>night</td>\n",
       "      <td>0.003584</td>\n",
       "    </tr>\n",
       "    <tr>\n",
       "      <th>3</th>\n",
       "      <td>kidding-goshawk</td>\n",
       "      <td>night</td>\n",
       "      <td>0.011029</td>\n",
       "    </tr>\n",
       "    <tr>\n",
       "      <th>4</th>\n",
       "      <td>scintillating-trout</td>\n",
       "      <td>night</td>\n",
       "      <td>0.004525</td>\n",
       "    </tr>\n",
       "  </tbody>\n",
       "</table>\n",
       "</div>"
      ],
      "text/plain": [
       "                author timestamp_category     value\n",
       "0       coltish-magpie              night  0.000000\n",
       "1         foamy-jackal              night  0.006033\n",
       "2         jesting-duck              night  0.003584\n",
       "3      kidding-goshawk              night  0.011029\n",
       "4  scintillating-trout              night  0.004525"
      ]
     },
     "execution_count": 17,
     "metadata": {},
     "output_type": "execute_result"
    }
   ],
   "source": [
    "p4 = p3_frac.reset_index().melt(id_vars=\"author\")\n",
    "p4.head()"
   ]
  },
  {
   "cell_type": "code",
   "execution_count": 18,
   "metadata": {},
   "outputs": [],
   "source": [
    "p4_filtered = p4[p4[\"author\"].isin(topk_authors)]"
   ]
  },
  {
   "cell_type": "code",
   "execution_count": 24,
   "metadata": {},
   "outputs": [
    {
     "ename": "ValueError",
     "evalue": "Mime type rendering requires nbformat>=4.2.0 but it is not installed",
     "output_type": "error",
     "traceback": [
      "\u001b[31m---------------------------------------------------------------------------\u001b[39m",
      "\u001b[31mValueError\u001b[39m                                Traceback (most recent call last)",
      "\u001b[36mCell\u001b[39m\u001b[36m \u001b[39m\u001b[32mIn[24]\u001b[39m\u001b[32m, line 6\u001b[39m\n\u001b[32m      1\u001b[39m \u001b[38;5;28;01mimport\u001b[39;00m\u001b[38;5;250m \u001b[39m\u001b[34;01mplotly\u001b[39;00m\u001b[34;01m.\u001b[39;00m\u001b[34;01mexpress\u001b[39;00m\u001b[38;5;250m \u001b[39m\u001b[38;5;28;01mas\u001b[39;00m\u001b[38;5;250m \u001b[39m\u001b[34;01mpx\u001b[39;00m\n\u001b[32m      3\u001b[39m fig = px.bar(\n\u001b[32m      4\u001b[39m     p4_filtered, y=\u001b[33m\"\u001b[39m\u001b[33mauthor\u001b[39m\u001b[33m\"\u001b[39m, x=\u001b[33m\"\u001b[39m\u001b[33mvalue\u001b[39m\u001b[33m\"\u001b[39m, color=\u001b[33m\"\u001b[39m\u001b[33mtimestamp_category\u001b[39m\u001b[33m\"\u001b[39m, barmode=\u001b[33m\"\u001b[39m\u001b[33mstack\u001b[39m\u001b[33m\"\u001b[39m\n\u001b[32m      5\u001b[39m )\n\u001b[32m----> \u001b[39m\u001b[32m6\u001b[39m \u001b[43mfig\u001b[49m\u001b[43m.\u001b[49m\u001b[43mshow\u001b[49m\u001b[43m(\u001b[49m\u001b[43m)\u001b[49m\n",
      "\u001b[36mFile \u001b[39m\u001b[32m~/Documents/HU/MADS-DAV/.venv/lib/python3.12/site-packages/plotly/basedatatypes.py:3420\u001b[39m, in \u001b[36mBaseFigure.show\u001b[39m\u001b[34m(self, *args, **kwargs)\u001b[39m\n\u001b[32m   3387\u001b[39m \u001b[38;5;250m\u001b[39m\u001b[33;03m\"\"\"\u001b[39;00m\n\u001b[32m   3388\u001b[39m \u001b[33;03mShow a figure using either the default renderer(s) or the renderer(s)\u001b[39;00m\n\u001b[32m   3389\u001b[39m \u001b[33;03mspecified by the renderer argument\u001b[39;00m\n\u001b[32m   (...)\u001b[39m\u001b[32m   3416\u001b[39m \u001b[33;03mNone\u001b[39;00m\n\u001b[32m   3417\u001b[39m \u001b[33;03m\"\"\"\u001b[39;00m\n\u001b[32m   3418\u001b[39m \u001b[38;5;28;01mimport\u001b[39;00m\u001b[38;5;250m \u001b[39m\u001b[34;01mplotly\u001b[39;00m\u001b[34;01m.\u001b[39;00m\u001b[34;01mio\u001b[39;00m\u001b[38;5;250m \u001b[39m\u001b[38;5;28;01mas\u001b[39;00m\u001b[38;5;250m \u001b[39m\u001b[34;01mpio\u001b[39;00m\n\u001b[32m-> \u001b[39m\u001b[32m3420\u001b[39m \u001b[38;5;28;01mreturn\u001b[39;00m \u001b[43mpio\u001b[49m\u001b[43m.\u001b[49m\u001b[43mshow\u001b[49m\u001b[43m(\u001b[49m\u001b[38;5;28;43mself\u001b[39;49m\u001b[43m,\u001b[49m\u001b[43m \u001b[49m\u001b[43m*\u001b[49m\u001b[43margs\u001b[49m\u001b[43m,\u001b[49m\u001b[43m \u001b[49m\u001b[43m*\u001b[49m\u001b[43m*\u001b[49m\u001b[43mkwargs\u001b[49m\u001b[43m)\u001b[49m\n",
      "\u001b[36mFile \u001b[39m\u001b[32m~/Documents/HU/MADS-DAV/.venv/lib/python3.12/site-packages/plotly/io/_renderers.py:415\u001b[39m, in \u001b[36mshow\u001b[39m\u001b[34m(fig, renderer, validate, **kwargs)\u001b[39m\n\u001b[32m    410\u001b[39m     \u001b[38;5;28;01mraise\u001b[39;00m \u001b[38;5;167;01mValueError\u001b[39;00m(\n\u001b[32m    411\u001b[39m         \u001b[33m\"\u001b[39m\u001b[33mMime type rendering requires ipython but it is not installed\u001b[39m\u001b[33m\"\u001b[39m\n\u001b[32m    412\u001b[39m     )\n\u001b[32m    414\u001b[39m \u001b[38;5;28;01mif\u001b[39;00m \u001b[38;5;129;01mnot\u001b[39;00m nbformat \u001b[38;5;129;01mor\u001b[39;00m Version(nbformat.__version__) < Version(\u001b[33m\"\u001b[39m\u001b[33m4.2.0\u001b[39m\u001b[33m\"\u001b[39m):\n\u001b[32m--> \u001b[39m\u001b[32m415\u001b[39m     \u001b[38;5;28;01mraise\u001b[39;00m \u001b[38;5;167;01mValueError\u001b[39;00m(\n\u001b[32m    416\u001b[39m         \u001b[33m\"\u001b[39m\u001b[33mMime type rendering requires nbformat>=4.2.0 but it is not installed\u001b[39m\u001b[33m\"\u001b[39m\n\u001b[32m    417\u001b[39m     )\n\u001b[32m    419\u001b[39m display_jupyter_version_warnings()\n\u001b[32m    421\u001b[39m ipython_display.display(bundle, raw=\u001b[38;5;28;01mTrue\u001b[39;00m)\n",
      "\u001b[31mValueError\u001b[39m: Mime type rendering requires nbformat>=4.2.0 but it is not installed"
     ]
    }
   ],
   "source": [
    "import plotly.express as px\n",
    "\n",
    "fig = px.bar(\n",
    "    p4_filtered, y=\"author\", x=\"value\", color=\"timestamp_category\", barmode=\"stack\"\n",
    ")\n",
    "fig.show()"
   ]
  },
  {
   "cell_type": "markdown",
   "metadata": {},
   "source": [
    "Let's extract the minimum and maximum time of the messages for every author, and convert that to a decimal fraction:"
   ]
  },
  {
   "cell_type": "code",
   "execution_count": null,
   "metadata": {},
   "outputs": [],
   "source": [
    "df[\"hour\"] = df[\"timestamp\"].dt.time\n",
    "summary_df = df.groupby(\"author\")[\"hour\"].agg([\"min\", \"max\"]).reset_index()\n",
    "\n",
    "\n",
    "def convert_to_decimal_hours(timestamp):\n",
    "    dec_hour = timestamp.hour + timestamp.minute / 60 + timestamp.second / 3600\n",
    "    return dec_hour\n",
    "\n",
    "\n",
    "summary_df[\"min_x_values\"] = summary_df[\"min\"].apply(convert_to_decimal_hours)\n",
    "summary_df[\"max_x_values\"] = summary_df[\"max\"].apply(convert_to_decimal_hours)\n",
    "\n",
    "# Drop the original 'min' and 'max' columns as they are no longer needed\n",
    "summary_df = summary_df.drop([\"min\", \"max\"], axis=1)\n",
    "summary_df.head()"
   ]
  },
  {
   "cell_type": "markdown",
   "metadata": {},
   "source": [
    "With this, we can create a nice barbell chart. Try to add colors for your own chart!"
   ]
  },
  {
   "cell_type": "code",
   "execution_count": null,
   "metadata": {},
   "outputs": [],
   "source": [
    "# Create a larger plot\n",
    "plt.figure(figsize=(10, 8))\n",
    "\n",
    "# Create scatter plots\n",
    "sns.scatterplot(data=summary_df, x=\"min_x_values\", y=\"author\", color=\"grey\")\n",
    "sns.scatterplot(data=summary_df, x=\"max_x_values\", y=\"author\", color=\"grey\")\n",
    "\n",
    "# Add lines\n",
    "for index, row in summary_df.iterrows():\n",
    "    plt.plot(\n",
    "        [row[\"min_x_values\"], row[\"max_x_values\"]],\n",
    "        [row[\"author\"], row[\"author\"]],\n",
    "        color=\"grey\",\n",
    "    )\n",
    "\n",
    "\n",
    "# Adjust the font size of the y-axis labels if needed\n",
    "plt.yticks(fontsize=10)\n",
    "\n",
    "# Show the plot\n",
    "plt.show()"
   ]
  },
  {
   "cell_type": "markdown",
   "metadata": {},
   "source": [
    "Another approach for comparing is to create a heatmap:"
   ]
  },
  {
   "cell_type": "code",
   "execution_count": null,
   "metadata": {},
   "outputs": [],
   "source": [
    "df[\"day_of_week\"] = df[\"timestamp\"].dt.dayofweek\n",
    "author_day_counts = df.groupby([\"author\", \"day_of_week\"]).size().unstack(fill_value=0)\n",
    "author_day_percentages = author_day_counts.div(author_day_counts.sum(axis=1), axis=0)\n",
    "\n",
    "\n",
    "filtered = author_day_percentages.loc[topk_authors]\n",
    "sns.heatmap(filtered, annot=True, fmt=\".2f\", linewidths=0.5, cmap=\"vlag\")\n",
    "plt.xticks(\n",
    "    ticks=range(7),\n",
    "    labels=[\n",
    "        \"Monday\",\n",
    "        \"Tuesday\",\n",
    "        \"Wednesday\",\n",
    "        \"Thursday\",\n",
    "        \"Friday\",\n",
    "        \"Saturday\",\n",
    "        \"Sunday\",\n",
    "    ],\n",
    "    rotation=45,\n",
    ")\n",
    "plt.title(\"Heatmap\")"
   ]
  },
  {
   "cell_type": "markdown",
   "metadata": {},
   "source": [
    "Let's save all the new features we added:"
   ]
  },
  {
   "cell_type": "code",
   "execution_count": null,
   "metadata": {},
   "outputs": [],
   "source": [
    "datafile"
   ]
  },
  {
   "cell_type": "code",
   "execution_count": null,
   "metadata": {},
   "outputs": [],
   "source": [
    "df.to_parquet(datafile, index=False)"
   ]
  }
 ],
 "metadata": {
  "kernelspec": {
   "display_name": ".venv",
   "language": "python",
   "name": "python3"
  },
  "language_info": {
   "codemirror_mode": {
    "name": "ipython",
    "version": 3
   },
   "file_extension": ".py",
   "mimetype": "text/x-python",
   "name": "python",
   "nbconvert_exporter": "python",
   "pygments_lexer": "ipython3",
   "version": "3.12.11"
  }
 },
 "nbformat": 4,
 "nbformat_minor": 2
}
