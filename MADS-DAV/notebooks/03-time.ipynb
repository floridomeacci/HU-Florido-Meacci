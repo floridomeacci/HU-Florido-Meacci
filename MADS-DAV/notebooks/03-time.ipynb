{
 "cells": [
  {
   "cell_type": "code",
   "execution_count": null,
   "metadata": {},
   "outputs": [],
   "source": [
    "import seaborn as sns\n",
    "import matplotlib.pyplot as plt\n",
    "import pandas as pd\n",
    "from pathlib import Path\n",
    "from loguru import logger\n",
    "import warnings\n",
    "\n",
    "warnings.filterwarnings(\"ignore\", category=FutureWarning)"
   ]
  },
  {
   "cell_type": "code",
   "execution_count": null,
   "metadata": {},
   "outputs": [],
   "source": [
    "import tomllib\n",
    "\n",
    "configfile = Path(\"../config.toml\").resolve()\n",
    "with configfile.open(\"rb\") as f:\n",
    "    config = tomllib.load(f)\n",
    "config"
   ]
  },
  {
   "cell_type": "code",
   "execution_count": null,
   "metadata": {},
   "outputs": [],
   "source": [
    "datafile = (Path(\"..\") / Path(config[\"processed\"]) / config[\"current\"]).resolve()\n",
    "if not datafile.exists():\n",
    "    logger.warning(\n",
    "        \"Datafile does not exist. First run src/preprocess.py, and check the timestamp!\"\n",
    "    )"
   ]
  },
  {
   "cell_type": "markdown",
   "metadata": {},
   "source": [
    "Lets load the data"
   ]
  },
  {
   "cell_type": "code",
   "execution_count": null,
   "metadata": {},
   "outputs": [],
   "source": [
    "df = pd.read_parquet(datafile)\n",
    "df"
   ]
  },
  {
   "cell_type": "markdown",
   "metadata": {},
   "source": [
    "Let's extract some more info from the timestamp:"
   ]
  },
  {
   "cell_type": "code",
   "execution_count": null,
   "metadata": {},
   "outputs": [],
   "source": [
    "df[\"date\"] = df[\"timestamp\"].dt.date\n",
    "df[\"isoweek\"] = df[\"timestamp\"].dt.isocalendar().week\n",
    "df[\"year-week\"] = df[\"timestamp\"].dt.strftime(\"%Y-%W\")\n",
    "df.head()"
   ]
  },
  {
   "cell_type": "code",
   "execution_count": null,
   "metadata": {},
   "outputs": [],
   "source": [
    "topk = list(df[df[\"is_topk\"]].author.unique())\n",
    "topk"
   ]
  },
  {
   "cell_type": "markdown",
   "metadata": {},
   "source": [
    "Now, we can group by the isoweeks, for example. \n",
    "Let's reindex in order to fill the missing weeks."
   ]
  },
  {
   "cell_type": "code",
   "execution_count": null,
   "metadata": {},
   "outputs": [],
   "source": [
    "df = df.drop(index=[0])"
   ]
  },
  {
   "cell_type": "code",
   "execution_count": null,
   "metadata": {},
   "outputs": [],
   "source": [
    "p = df.groupby(\"year-week\").count()\n",
    "p.head()"
   ]
  },
  {
   "cell_type": "code",
   "execution_count": null,
   "metadata": {},
   "outputs": [],
   "source": [
    "min_ts = df[\"timestamp\"].min()\n",
    "max_ts = df[\"timestamp\"].max()\n",
    "new_index = pd.date_range(\n",
    "    start=min_ts, end=max_ts, freq=\"W\", name=\"year-week\"\n",
    ").strftime(\"%Y-%W\")\n",
    "p = p.reindex(new_index, fill_value=0)\n",
    "p.head()"
   ]
  },
  {
   "cell_type": "code",
   "execution_count": null,
   "metadata": {},
   "outputs": [],
   "source": [
    "fig, ax = plt.subplots(figsize=(12, 6))\n",
    "sns.scatterplot(data=p, x=p.index, y=\"timestamp\", ax=ax)\n",
    "p[\"moving_avg\"] = p[\"timestamp\"].rolling(window=1).mean()\n",
    "sns.lineplot(data=p, x=p.index, y=\"moving_avg\", ax=ax)\n",
    "\n",
    "interval = 4\n",
    "xticks = p.index[::interval]\n",
    "ax.set_xticks(xticks)\n",
    "ax.set_xticklabels(xticks, rotation=45, ha=\"right\")\n",
    "plt.title(\"Messages over time\")"
   ]
  },
  {
   "cell_type": "markdown",
   "metadata": {},
   "source": [
    "Try to play with the colors. Make sure adding colors conveys a message, and isnt randomly adding colors.\n",
    "Probaly, a scatterplot and lineplot are not the best way to show the count of messages per author, per week, for your data, so you might need to modify that. It might not even be useful for your data to do this (eg because you have too many authors).\n",
    "\n",
    "The main goal here is to find some way to visualise the count over time, per author, and to give you some starting point if that is relevant for your dataset."
   ]
  },
  {
   "cell_type": "code",
   "execution_count": null,
   "metadata": {},
   "outputs": [],
   "source": [
    "# keep only topk authors\n",
    "\n",
    "p = df[df[\"author\"].isin(topk)].groupby([\"author\", \"year-week\"]).count()\n",
    "# p = df.groupby([\"author\", \"year-week\"]).count()\n",
    "p"
   ]
  },
  {
   "cell_type": "code",
   "execution_count": null,
   "metadata": {},
   "outputs": [],
   "source": [
    "# authors = df[\"author\"].unique()\n",
    "multi_index = pd.MultiIndex.from_product(\n",
    "    [topk, new_index], names=[\"author\", \"year-week\"]\n",
    ")\n",
    "p = p.reindex(multi_index, fill_value=0)\n",
    "p"
   ]
  },
  {
   "cell_type": "code",
   "execution_count": null,
   "metadata": {},
   "outputs": [],
   "source": [
    "# put legend outside the plot\n",
    "sns.scatterplot(data=p, x=\"year-week\", y=\"timestamp\", hue=\"author\", legend=True)\n",
    "sns.lineplot(data=p, x=\"year-week\", y=\"timestamp\", legend=False, hue=\"author\")\n",
    "plt.legend(bbox_to_anchor=(1.05, 1), loc=\"upper left\", borderaxespad=0)\n",
    "plt.xticks(rotation=45, ha=\"right\");"
   ]
  },
  {
   "cell_type": "code",
   "execution_count": null,
   "metadata": {},
   "outputs": [],
   "source": [
    "df[\"day_of_week\"] = df[\"timestamp\"].dt.day_name()\n",
    "df_agg = df.groupby([\"date\", \"day_of_week\"]).size().reset_index(name=\"message_count\")\n",
    "df_agg"
   ]
  },
  {
   "cell_type": "markdown",
   "metadata": {},
   "source": [
    "Sometimes, you want to group the timeseries in clusters, eg per day of the week (of per month, or per year, etc).\n",
    "Facetgrid is a nice way to do this."
   ]
  },
  {
   "cell_type": "code",
   "execution_count": null,
   "metadata": {},
   "outputs": [],
   "source": [
    "# Set the order of the days of the week\n",
    "days_order = [\n",
    "    \"Monday\",\n",
    "    \"Tuesday\",\n",
    "    \"Wednesday\",\n",
    "    \"Thursday\",\n",
    "    \"Friday\",\n",
    "    \"Saturday\",\n",
    "    \"Sunday\",\n",
    "]\n",
    "\n",
    "# Create a FacetGrid to plot the line plots for each day of the week\n",
    "g = sns.FacetGrid(df_agg, col=\"day_of_week\", col_wrap=4, height=3, col_order=days_order)\n",
    "g.map(sns.scatterplot, \"date\", \"message_count\")\n",
    "g.map(sns.lineplot, \"date\", \"message_count\")\n",
    "g.set(xticks=[])\n",
    "g.despine(left=True, bottom=False)"
   ]
  },
  {
   "cell_type": "markdown",
   "metadata": {},
   "source": [
    "Another nice plot is the area plot. Plotly has a nice version if this one."
   ]
  },
  {
   "cell_type": "code",
   "execution_count": null,
   "metadata": {},
   "outputs": [],
   "source": [
    "import plotly.express as px\n",
    "\n",
    "# first count the number for every category, for every date\n",
    "p = df.groupby([\"date\", \"timestamp_category\"]).size().reset_index(name=\"message_count\")\n",
    "# then, make the count cumulative for every category\n",
    "p[\"cumulative_count\"] = p.groupby(\"timestamp_category\")[\"message_count\"].cumsum()\n",
    "\n",
    "fig = px.area(\n",
    "    p,\n",
    "    x=\"date\",\n",
    "    y=\"cumulative_count\",\n",
    "    color=\"timestamp_category\",\n",
    "    line_group=\"timestamp_category\",\n",
    "    labels={\"cumulative_count\": \"Cumulative Message Count\"},\n",
    ")\n",
    "fig.show()"
   ]
  },
  {
   "cell_type": "markdown",
   "metadata": {},
   "source": [
    "# Code for two authors\n",
    "\n",
    "I have experimented with two authors, and explored the question \"who is the first (or last) of the day to send a message?\".\n",
    "I didnt tweak this for groupchats."
   ]
  },
  {
   "cell_type": "code",
   "execution_count": null,
   "metadata": {},
   "outputs": [],
   "source": [
    "df_grouped = df.groupby(\"date\").agg(\n",
    "    {\n",
    "        \"timestamp\": [\"min\", \"max\"],\n",
    "        \"author\": [\"first\", \"last\"],\n",
    "    }\n",
    ")\n",
    "df_grouped.columns = df_grouped.columns.map(\"_\".join)\n",
    "df_grouped"
   ]
  },
  {
   "cell_type": "code",
   "execution_count": null,
   "metadata": {},
   "outputs": [],
   "source": [
    "df_grouped[\"timestamp_max_shifted\"] = df_grouped[\"timestamp_max\"].shift()\n",
    "\n",
    "# Calculate the time difference\n",
    "df_grouped[\"time_difference\"] = (\n",
    "    df_grouped[\"timestamp_min\"] - df_grouped[\"timestamp_max_shifted\"]\n",
    ")\n",
    "df_grouped"
   ]
  },
  {
   "cell_type": "code",
   "execution_count": null,
   "metadata": {},
   "outputs": [],
   "source": [
    "mapping = {\n",
    "    v: ((1 - k) * -1 + (k * 1))\n",
    "    for k, v in enumerate(df_grouped[\"author_first\"].unique())\n",
    "}\n",
    "# this only works with two authors\n",
    "# mapping = {'author1': 1, 'author2' : -1}\n",
    "mapping"
   ]
  },
  {
   "cell_type": "code",
   "execution_count": null,
   "metadata": {},
   "outputs": [],
   "source": [
    "mapping.items()"
   ]
  },
  {
   "cell_type": "code",
   "execution_count": null,
   "metadata": {},
   "outputs": [],
   "source": [
    "df_grouped[\"last_message\"] = df_grouped[\"author_last\"].map(mapping)\n",
    "df_grouped[\"first_message\"] = df_grouped[\"author_first\"].map(mapping)\n",
    "df_grouped[\"last_balance\"] = df_grouped[\"last_message\"].cumsum()\n",
    "df_grouped[\"first_balance\"] = df_grouped[\"first_message\"].cumsum()"
   ]
  },
  {
   "cell_type": "code",
   "execution_count": null,
   "metadata": {},
   "outputs": [],
   "source": [
    "# Get the actual author names from the mapping dictionary\n",
    "author_positive = [k for k, v in mapping.items() if v == 1][0]\n",
    "author_negative = [k for k, v in mapping.items() if v == -1][0]\n",
    "\n",
    "# Create more descriptive labels\n",
    "sns.lineplot(\n",
    "    data=df_grouped,\n",
    "    x=\"date\",\n",
    "    y=\"last_balance\",\n",
    "    label=f\"Last message ({author_positive}: +, {author_negative}: -)\",\n",
    ")\n",
    "sns.lineplot(\n",
    "    data=df_grouped,\n",
    "    x=\"date\",\n",
    "    y=\"first_balance\",\n",
    "    label=f\"First message ({author_positive}: +, {author_negative}: -)\",\n",
    ")\n",
    "\n",
    "# Adjust title to use actual author names\n",
    "plt.suptitle(\"Who sends the first or last message?\")\n",
    "plt.xticks(rotation=45)\n",
    "plt.title(f\"{author_positive} (+1) vs {author_negative} (-1)\")\n",
    "plt.legend(loc=\"upper left\", bbox_to_anchor=(1.05, 1), borderaxespad=0)"
   ]
  },
  {
   "cell_type": "code",
   "execution_count": null,
   "metadata": {},
   "outputs": [],
   "source": [
    "df_grouped.head()"
   ]
  },
  {
   "cell_type": "code",
   "execution_count": null,
   "metadata": {},
   "outputs": [],
   "source": [
    "def time_to_decimal(time_obj):\n",
    "    return time_obj.hour + time_obj.minute / 60 + time_obj.second / 3600\n",
    "\n",
    "\n",
    "df_grouped[\"decimal_first_time\"] = df_grouped.timestamp_min.apply(time_to_decimal)\n",
    "df_grouped[\"decimal_last_time\"] = df_grouped.timestamp_max.apply(time_to_decimal)"
   ]
  },
  {
   "cell_type": "code",
   "execution_count": null,
   "metadata": {},
   "outputs": [],
   "source": [
    "fig, ax = plt.subplots(figsize=(12, 6))\n",
    "center = [t - 0.5 for t in range(0, 25)]\n",
    "sns.histplot(\n",
    "    data=df_grouped,\n",
    "    x=\"decimal_first_time\",\n",
    "    hue=\"author_first\",\n",
    "    common_norm=False,\n",
    "    fill=True,\n",
    "    bins=center,\n",
    "    multiple=\"dodge\",\n",
    "    kde=True,\n",
    "    ax=ax,\n",
    ")\n",
    "ax.set_xticks(range(0, 24));"
   ]
  },
  {
   "cell_type": "code",
   "execution_count": null,
   "metadata": {},
   "outputs": [],
   "source": [
    "fig, ax = plt.subplots(figsize=(12, 6))\n",
    "center = [t - 0.5 for t in range(0, 25)]\n",
    "sns.histplot(\n",
    "    data=df_grouped,\n",
    "    x=\"decimal_last_time\",\n",
    "    hue=\"author_last\",\n",
    "    common_norm=False,\n",
    "    fill=True,\n",
    "    bins=center,\n",
    "    multiple=\"dodge\",\n",
    "    kde=True,\n",
    "    ax=ax,\n",
    ")\n",
    "ax.set_xticks(range(0, 24));"
   ]
  },
  {
   "cell_type": "code",
   "execution_count": null,
   "metadata": {},
   "outputs": [],
   "source": [
    "\n",
    "def decimal_delta(td):\n",
    "    if td == 0:\n",
    "        return 0\n",
    "    return td.total_seconds() / 3600\n",
    "\n",
    "\n",
    "df[\"next_author\"] = df.author.shift(-1)\n",
    "df[\"next_timestamp\"] = df.timestamp.shift(-1)\n",
    "df[\"reaction_time\"] = df.next_timestamp - df.timestamp\n",
    "df[\"decimal_reaction_time\"] = df.reaction_time.apply(decimal_delta)\n",
    "df[\"reply\"] = df.apply(lambda x: x.author != x.next_author, axis=1)\n",
    "df.head()"
   ]
  },
  {
   "cell_type": "code",
   "execution_count": null,
   "metadata": {},
   "outputs": [],
   "source": [
    "fig, ax = plt.subplots(figsize=(12, 6))\n",
    "p = (\n",
    "    df[df.reply]\n",
    "    .groupby([\"year-week\", \"next_author\"])\n",
    "    .agg({\"decimal_reaction_time\": \"mean\"})\n",
    ")\n",
    "sns.scatterplot(\n",
    "    data=p, x=\"year-week\", y=\"decimal_reaction_time\", hue=\"next_author\", ax=ax\n",
    ")\n",
    "sns.lineplot(data=p, x=\"year-week\", y=\"decimal_reaction_time\", hue=\"next_author\", ax=ax)\n",
    "plt.yscale(\"log\")\n",
    "interval = 4\n",
    "xticks = p.reset_index()[\"year-week\"].unique()[::interval]\n",
    "# xticks = p.index[::interval]\n",
    "ax.set_xticks(xticks)\n",
    "ax.set_xticklabels(xticks, rotation=45, ha=\"right\")\n",
    "plt.title(\"Who is the fastest in responding?\")"
   ]
  },
  {
   "cell_type": "code",
   "execution_count": null,
   "metadata": {},
   "outputs": [],
   "source": [
    "p = df[df.reply]\n",
    "\n",
    "sns.kdeplot(data=p, x=\"decimal_reaction_time\", hue=\"next_author\")\n",
    "plt.xlim((0, 24))\n",
    "# uncomment log if necessary\n",
    "# plt.yscale('log')"
   ]
  }
 ],
 "metadata": {
  "kernelspec": {
   "display_name": ".venv",
   "language": "python",
   "name": "python3"
  },
  "language_info": {
   "codemirror_mode": {
    "name": "ipython",
    "version": 3
   },
   "file_extension": ".py",
   "mimetype": "text/x-python",
   "name": "python",
   "nbconvert_exporter": "python",
   "pygments_lexer": "ipython3",
   "version": "3.12.8"
  }
 },
 "nbformat": 4,
 "nbformat_minor": 2
}
