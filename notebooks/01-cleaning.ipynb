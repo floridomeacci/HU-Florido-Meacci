{
 "cells": [
  {
   "cell_type": "code",
   "execution_count": 178,
   "metadata": {},
   "outputs": [],
   "source": [
    "from pathlib import Path\n",
    "from loguru import logger\n",
    "import pandas as pd\n",
    "from datetime import datetime"
   ]
  },
  {
   "cell_type": "markdown",
   "metadata": {},
   "source": [
    "Read in the file"
   ]
  },
  {
   "cell_type": "code",
   "execution_count": 179,
   "metadata": {},
   "outputs": [],
   "source": [
    "import tomllib\n",
    "\n",
    "configfile = Path(\"../config.toml\").resolve()\n",
    "with configfile.open(\"rb\") as f:\n",
    "    config = tomllib.load(f)\n",
    "processed = Path(\"../data/processed\")\n",
    "datafile = processed / config[\"inputpath\"]\n",
    "if not datafile.exists():\n",
    "    logger.warning(\n",
    "        f\"{datafile} does not exist. Maybe first run src/preprocess.py, or check the timestamp!\"\n",
    "    )"
   ]
  },
  {
   "cell_type": "code",
   "execution_count": 180,
   "metadata": {},
   "outputs": [
    {
     "data": {
      "text/html": [
       "<div>\n",
       "<style scoped>\n",
       "    .dataframe tbody tr th:only-of-type {\n",
       "        vertical-align: middle;\n",
       "    }\n",
       "\n",
       "    .dataframe tbody tr th {\n",
       "        vertical-align: top;\n",
       "    }\n",
       "\n",
       "    .dataframe thead th {\n",
       "        text-align: right;\n",
       "    }\n",
       "</style>\n",
       "<table border=\"1\" class=\"dataframe\">\n",
       "  <thead>\n",
       "    <tr style=\"text-align: right;\">\n",
       "      <th></th>\n",
       "      <th>timestamp</th>\n",
       "      <th>message</th>\n",
       "      <th>has_emoji</th>\n",
       "      <th>author</th>\n",
       "    </tr>\n",
       "  </thead>\n",
       "  <tbody>\n",
       "    <tr>\n",
       "      <th>0</th>\n",
       "      <td>2022-02-17 13:15:00+00:00</td>\n",
       "      <td>Many wishes!!! From all of us🤗😘😘🎊</td>\n",
       "      <td>True</td>\n",
       "      <td>knee-slapping-buffalo</td>\n",
       "    </tr>\n",
       "    <tr>\n",
       "      <th>1</th>\n",
       "      <td>2022-02-17 13:28:00+00:00</td>\n",
       "      <td>Auguri 🎂🎂🎉🎉</td>\n",
       "      <td>True</td>\n",
       "      <td>playful-oyster</td>\n",
       "    </tr>\n",
       "    <tr>\n",
       "      <th>2</th>\n",
       "      <td>2022-02-17 13:35:00+00:00</td>\n",
       "      <td>Thank you guys! 🥰🥰 so many wishes!</td>\n",
       "      <td>False</td>\n",
       "      <td>incandescent-hippocampus</td>\n",
       "    </tr>\n",
       "    <tr>\n",
       "      <th>3</th>\n",
       "      <td>2022-02-17 13:48:00+00:00</td>\n",
       "      <td>And good luck tomorrow!!!!! 🤞🤞🤞</td>\n",
       "      <td>False</td>\n",
       "      <td>knee-slapping-buffalo</td>\n",
       "    </tr>\n",
       "    <tr>\n",
       "      <th>4</th>\n",
       "      <td>2022-02-17 13:54:00+00:00</td>\n",
       "      <td>Happy birthday Jiangxi Fei! 🥳🥳🥳🥳🥳🥳</td>\n",
       "      <td>False</td>\n",
       "      <td>lively-vicuña</td>\n",
       "    </tr>\n",
       "  </tbody>\n",
       "</table>\n",
       "</div>"
      ],
      "text/plain": [
       "                  timestamp                             message  has_emoji  \\\n",
       "0 2022-02-17 13:15:00+00:00   Many wishes!!! From all of us🤗😘😘🎊       True   \n",
       "1 2022-02-17 13:28:00+00:00                         Auguri 🎂🎂🎉🎉       True   \n",
       "2 2022-02-17 13:35:00+00:00  Thank you guys! 🥰🥰 so many wishes!      False   \n",
       "3 2022-02-17 13:48:00+00:00     And good luck tomorrow!!!!! 🤞🤞🤞      False   \n",
       "4 2022-02-17 13:54:00+00:00  Happy birthday Jiangxi Fei! 🥳🥳🥳🥳🥳🥳      False   \n",
       "\n",
       "                     author  \n",
       "0     knee-slapping-buffalo  \n",
       "1            playful-oyster  \n",
       "2  incandescent-hippocampus  \n",
       "3     knee-slapping-buffalo  \n",
       "4             lively-vicuña  "
      ]
     },
     "execution_count": 180,
     "metadata": {},
     "output_type": "execute_result"
    }
   ],
   "source": [
    "df = pd.read_csv(datafile, parse_dates=[\"timestamp\"])\n",
    "df.head()"
   ]
  },
  {
   "cell_type": "markdown",
   "metadata": {},
   "source": [
    "Check the datatypes. Note the timestamp type!"
   ]
  },
  {
   "cell_type": "code",
   "execution_count": 181,
   "metadata": {},
   "outputs": [
    {
     "data": {
      "text/plain": [
       "timestamp    datetime64[ns, UTC]\n",
       "message                   object\n",
       "has_emoji                   bool\n",
       "author                    object\n",
       "dtype: object"
      ]
     },
     "execution_count": 181,
     "metadata": {},
     "output_type": "execute_result"
    }
   ],
   "source": [
    "df.dtypes"
   ]
  },
  {
   "cell_type": "markdown",
   "metadata": {},
   "source": [
    "Sometimes, author names have a tilde in front of them, allong with some unicode. Let's clean that."
   ]
  },
  {
   "cell_type": "code",
   "execution_count": 182,
   "metadata": {},
   "outputs": [
    {
     "data": {
      "text/plain": [
       "0       knee-slapping-buffalo\n",
       "1              playful-oyster\n",
       "2    incandescent-hippocampus\n",
       "3       knee-slapping-buffalo\n",
       "4               lively-vicuña\n",
       "Name: author, dtype: object"
      ]
     },
     "execution_count": 182,
     "metadata": {},
     "output_type": "execute_result"
    }
   ],
   "source": [
    "# Normalize authors consistently with the preprocessor\n",
    "from importlib import reload\n",
    "import re\n",
    "\n",
    "import wa_analyzer.preprocess as _pre\n",
    "reload(_pre)\n",
    "from wa_analyzer.preprocess import WhatsappPreprocessor\n",
    "\n",
    "# Safe fallback if running in an older environment without the new method\n",
    "if hasattr(WhatsappPreprocessor, \"normalize_author\"):\n",
    "    normalizer = WhatsappPreprocessor.normalize_author\n",
    "else:\n",
    "    # Fallback: basic cleanup (tilde/NNBSP + collapse whitespace)\n",
    "    def normalizer(name: str) -> str:\n",
    "        if not isinstance(name, str):\n",
    "            return name\n",
    "        s = re.sub(r\"[\\u200B-\\u200D\\uFEFF]\", \"\", name)  # zero-width\n",
    "        s = s.replace(\"\\u00A0\", \" \").replace(\"\\u202F\", \" \")  # NBSP/NNBSP\n",
    "        s = re.sub(r\"^[~\\u223C]\\s*\", \"\", s)  # leading tilde/wave\n",
    "        s = re.sub(r\"\\s+\", \" \", s).strip()\n",
    "        return s\n",
    "\n",
    "# Apply normalization\n",
    "df[\"author\"] = df[\"author\"].apply(normalizer)\n",
    "df[\"author\"].head()"
   ]
  },
  {
   "cell_type": "markdown",
   "metadata": {},
   "source": [
    "Let's check how many unique authors we have"
   ]
  },
  {
   "cell_type": "code",
   "execution_count": 183,
   "metadata": {},
   "outputs": [
    {
     "data": {
      "text/plain": [
       "7"
      ]
     },
     "execution_count": 183,
     "metadata": {},
     "output_type": "execute_result"
    }
   ],
   "source": [
    "len(df.author.unique())"
   ]
  },
  {
   "cell_type": "markdown",
   "metadata": {},
   "source": [
    "Let's make the authors anonymous"
   ]
  },
  {
   "cell_type": "code",
   "execution_count": 184,
   "metadata": {},
   "outputs": [
    {
     "data": {
      "text/plain": [
       "0       knee-slapping-buffalo\n",
       "1              playful-oyster\n",
       "2    incandescent-hippocampus\n",
       "3       knee-slapping-buffalo\n",
       "4               lively-vicuña\n",
       "Name: author_orig, dtype: object"
      ]
     },
     "execution_count": 184,
     "metadata": {},
     "output_type": "execute_result"
    }
   ],
   "source": [
    "# Preserve original author names before anonymization\n",
    "if \"author_orig\" not in df.columns:\n",
    "    df[\"author_orig\"] = df[\"author\"]\n",
    "df[\"author_orig\"].head()"
   ]
  },
  {
   "cell_type": "code",
   "execution_count": null,
   "metadata": {},
   "outputs": [],
   "source": [
    "import json\n",
    "import pandas as pd\n",
    "from wa_analyzer.humanhasher import humanize\n",
    "from wa_analyzer.preprocess import WhatsappPreprocessor\n",
    "\n",
    "reference_file = processed / \"anon_reference.json\"\n",
    "\n",
    "# Prefer loading the reference generated by the preprocessor\n",
    "if reference_file.exists():\n",
    "    with open(reference_file, \"r\", encoding=\"utf-8\") as f:\n",
    "        ref = json.load(f)  # anonymized -> original\n",
    "    # Build original -> anonymized for mapping in this notebook\n",
    "    anon = {v: k for k, v in ref.items()}\n",
    "else:\n",
    "    # First-time setup (no reference yet): build from original names only\n",
    "    src_col = \"author_orig\" if \"author_orig\" in df.columns else None\n",
    "    if src_col is None:\n",
    "        raise FileNotFoundError(\n",
    "            \"anon_reference.json not found and df has no 'author_orig'.\\n\"\n",
    "            \"Run the preprocessor (src/wa_analyzer/preprocess.py) to generate a proper reference,\"\n",
    "            \" or re-run earlier cells to create 'author_orig' before anonymization.\"\n",
    "        )\n",
    "    # Optional normalization for consistency\n",
    "    if hasattr(WhatsappPreprocessor, \"normalize_author\"):\n",
    "        df[src_col] = df[src_col].apply(WhatsappPreprocessor.normalize_author)\n",
    "    authors = df[src_col].unique()\n",
    "    anon = {k: humanize(k) for k in authors}  # original -> anonymized\n",
    "    # Save one-time reference anonymized -> original\n",
    "    with open(reference_file, \"w\", encoding=\"utf-8\") as f:\n",
    "        ref = {v: k for k, v in anon.items()}\n",
    "        json.dump({k: ref[k] for k in sorted(ref.keys())}, f, ensure_ascii=False, indent=2)\n",
    "\n",
    "# Show a small preview\n",
    "list(anon.items())[:5]"
   ]
  },
  {
   "cell_type": "code",
   "execution_count": 186,
   "metadata": {},
   "outputs": [
    {
     "data": {
      "text/html": [
       "<div>\n",
       "<style scoped>\n",
       "    .dataframe tbody tr th:only-of-type {\n",
       "        vertical-align: middle;\n",
       "    }\n",
       "\n",
       "    .dataframe tbody tr th {\n",
       "        vertical-align: top;\n",
       "    }\n",
       "\n",
       "    .dataframe thead th {\n",
       "        text-align: right;\n",
       "    }\n",
       "</style>\n",
       "<table border=\"1\" class=\"dataframe\">\n",
       "  <thead>\n",
       "    <tr style=\"text-align: right;\">\n",
       "      <th></th>\n",
       "      <th>timestamp</th>\n",
       "      <th>message</th>\n",
       "      <th>has_emoji</th>\n",
       "      <th>author</th>\n",
       "      <th>author_orig</th>\n",
       "      <th>anon_author</th>\n",
       "    </tr>\n",
       "  </thead>\n",
       "  <tbody>\n",
       "    <tr>\n",
       "      <th>0</th>\n",
       "      <td>2022-02-17 13:15:00+00:00</td>\n",
       "      <td>Many wishes!!! From all of us🤗😘😘🎊</td>\n",
       "      <td>True</td>\n",
       "      <td>knee-slapping-buffalo</td>\n",
       "      <td>knee-slapping-buffalo</td>\n",
       "      <td>hypnotic-worm</td>\n",
       "    </tr>\n",
       "    <tr>\n",
       "      <th>1</th>\n",
       "      <td>2022-02-17 13:28:00+00:00</td>\n",
       "      <td>Auguri 🎂🎂🎉🎉</td>\n",
       "      <td>True</td>\n",
       "      <td>playful-oyster</td>\n",
       "      <td>playful-oyster</td>\n",
       "      <td>swift-porpoise</td>\n",
       "    </tr>\n",
       "    <tr>\n",
       "      <th>2</th>\n",
       "      <td>2022-02-17 13:35:00+00:00</td>\n",
       "      <td>Thank you guys! 🥰🥰 so many wishes!</td>\n",
       "      <td>False</td>\n",
       "      <td>incandescent-hippocampus</td>\n",
       "      <td>incandescent-hippocampus</td>\n",
       "      <td>quirky-ermine</td>\n",
       "    </tr>\n",
       "    <tr>\n",
       "      <th>3</th>\n",
       "      <td>2022-02-17 13:48:00+00:00</td>\n",
       "      <td>And good luck tomorrow!!!!! 🤞🤞🤞</td>\n",
       "      <td>False</td>\n",
       "      <td>knee-slapping-buffalo</td>\n",
       "      <td>knee-slapping-buffalo</td>\n",
       "      <td>hypnotic-worm</td>\n",
       "    </tr>\n",
       "    <tr>\n",
       "      <th>4</th>\n",
       "      <td>2022-02-17 13:54:00+00:00</td>\n",
       "      <td>Happy birthday Jiangxi Fei! 🥳🥳🥳🥳🥳🥳</td>\n",
       "      <td>False</td>\n",
       "      <td>lively-vicuña</td>\n",
       "      <td>lively-vicuña</td>\n",
       "      <td>hooting-swallow</td>\n",
       "    </tr>\n",
       "  </tbody>\n",
       "</table>\n",
       "</div>"
      ],
      "text/plain": [
       "                  timestamp                             message  has_emoji  \\\n",
       "0 2022-02-17 13:15:00+00:00   Many wishes!!! From all of us🤗😘😘🎊       True   \n",
       "1 2022-02-17 13:28:00+00:00                         Auguri 🎂🎂🎉🎉       True   \n",
       "2 2022-02-17 13:35:00+00:00  Thank you guys! 🥰🥰 so many wishes!      False   \n",
       "3 2022-02-17 13:48:00+00:00     And good luck tomorrow!!!!! 🤞🤞🤞      False   \n",
       "4 2022-02-17 13:54:00+00:00  Happy birthday Jiangxi Fei! 🥳🥳🥳🥳🥳🥳      False   \n",
       "\n",
       "                     author               author_orig      anon_author  \n",
       "0     knee-slapping-buffalo     knee-slapping-buffalo    hypnotic-worm  \n",
       "1            playful-oyster            playful-oyster   swift-porpoise  \n",
       "2  incandescent-hippocampus  incandescent-hippocampus    quirky-ermine  \n",
       "3     knee-slapping-buffalo     knee-slapping-buffalo    hypnotic-worm  \n",
       "4             lively-vicuña             lively-vicuña  hooting-swallow  "
      ]
     },
     "execution_count": 186,
     "metadata": {},
     "output_type": "execute_result"
    }
   ],
   "source": [
    "# Apply anonymized labels to a working author column used downstream\n",
    "df[\"anon_author\"] = df[(\"author_orig\" if \"author_orig\" in df.columns else \"author\")].map(anon)\n",
    "df.head()"
   ]
  },
  {
   "cell_type": "markdown",
   "metadata": {},
   "source": [
    "We can now drop the original author column"
   ]
  },
  {
   "cell_type": "code",
   "execution_count": 187,
   "metadata": {},
   "outputs": [],
   "source": [
    "# Keep original author for reference, work with anon_author downstream\n",
    "df.drop(columns=[\"author\"], inplace=True, errors=\"ignore\")"
   ]
  },
  {
   "cell_type": "markdown",
   "metadata": {},
   "source": [
    "Check if it's gone"
   ]
  },
  {
   "cell_type": "code",
   "execution_count": 188,
   "metadata": {},
   "outputs": [
    {
     "data": {
      "text/html": [
       "<div>\n",
       "<style scoped>\n",
       "    .dataframe tbody tr th:only-of-type {\n",
       "        vertical-align: middle;\n",
       "    }\n",
       "\n",
       "    .dataframe tbody tr th {\n",
       "        vertical-align: top;\n",
       "    }\n",
       "\n",
       "    .dataframe thead th {\n",
       "        text-align: right;\n",
       "    }\n",
       "</style>\n",
       "<table border=\"1\" class=\"dataframe\">\n",
       "  <thead>\n",
       "    <tr style=\"text-align: right;\">\n",
       "      <th></th>\n",
       "      <th>timestamp</th>\n",
       "      <th>message</th>\n",
       "      <th>has_emoji</th>\n",
       "      <th>author_orig</th>\n",
       "      <th>anon_author</th>\n",
       "    </tr>\n",
       "  </thead>\n",
       "  <tbody>\n",
       "    <tr>\n",
       "      <th>0</th>\n",
       "      <td>2022-02-17 13:15:00+00:00</td>\n",
       "      <td>Many wishes!!! From all of us🤗😘😘🎊</td>\n",
       "      <td>True</td>\n",
       "      <td>knee-slapping-buffalo</td>\n",
       "      <td>hypnotic-worm</td>\n",
       "    </tr>\n",
       "    <tr>\n",
       "      <th>1</th>\n",
       "      <td>2022-02-17 13:28:00+00:00</td>\n",
       "      <td>Auguri 🎂🎂🎉🎉</td>\n",
       "      <td>True</td>\n",
       "      <td>playful-oyster</td>\n",
       "      <td>swift-porpoise</td>\n",
       "    </tr>\n",
       "    <tr>\n",
       "      <th>2</th>\n",
       "      <td>2022-02-17 13:35:00+00:00</td>\n",
       "      <td>Thank you guys! 🥰🥰 so many wishes!</td>\n",
       "      <td>False</td>\n",
       "      <td>incandescent-hippocampus</td>\n",
       "      <td>quirky-ermine</td>\n",
       "    </tr>\n",
       "    <tr>\n",
       "      <th>3</th>\n",
       "      <td>2022-02-17 13:48:00+00:00</td>\n",
       "      <td>And good luck tomorrow!!!!! 🤞🤞🤞</td>\n",
       "      <td>False</td>\n",
       "      <td>knee-slapping-buffalo</td>\n",
       "      <td>hypnotic-worm</td>\n",
       "    </tr>\n",
       "    <tr>\n",
       "      <th>4</th>\n",
       "      <td>2022-02-17 13:54:00+00:00</td>\n",
       "      <td>Happy birthday Jiangxi Fei! 🥳🥳🥳🥳🥳🥳</td>\n",
       "      <td>False</td>\n",
       "      <td>lively-vicuña</td>\n",
       "      <td>hooting-swallow</td>\n",
       "    </tr>\n",
       "  </tbody>\n",
       "</table>\n",
       "</div>"
      ],
      "text/plain": [
       "                  timestamp                             message  has_emoji  \\\n",
       "0 2022-02-17 13:15:00+00:00   Many wishes!!! From all of us🤗😘😘🎊       True   \n",
       "1 2022-02-17 13:28:00+00:00                         Auguri 🎂🎂🎉🎉       True   \n",
       "2 2022-02-17 13:35:00+00:00  Thank you guys! 🥰🥰 so many wishes!      False   \n",
       "3 2022-02-17 13:48:00+00:00     And good luck tomorrow!!!!! 🤞🤞🤞      False   \n",
       "4 2022-02-17 13:54:00+00:00  Happy birthday Jiangxi Fei! 🥳🥳🥳🥳🥳🥳      False   \n",
       "\n",
       "                author_orig      anon_author  \n",
       "0     knee-slapping-buffalo    hypnotic-worm  \n",
       "1            playful-oyster   swift-porpoise  \n",
       "2  incandescent-hippocampus    quirky-ermine  \n",
       "3     knee-slapping-buffalo    hypnotic-worm  \n",
       "4             lively-vicuña  hooting-swallow  "
      ]
     },
     "execution_count": 188,
     "metadata": {},
     "output_type": "execute_result"
    }
   ],
   "source": [
    "df.head()"
   ]
  },
  {
   "cell_type": "markdown",
   "metadata": {},
   "source": [
    "And let's rename the column"
   ]
  },
  {
   "cell_type": "code",
   "execution_count": 189,
   "metadata": {},
   "outputs": [
    {
     "data": {
      "text/html": [
       "<div>\n",
       "<style scoped>\n",
       "    .dataframe tbody tr th:only-of-type {\n",
       "        vertical-align: middle;\n",
       "    }\n",
       "\n",
       "    .dataframe tbody tr th {\n",
       "        vertical-align: top;\n",
       "    }\n",
       "\n",
       "    .dataframe thead th {\n",
       "        text-align: right;\n",
       "    }\n",
       "</style>\n",
       "<table border=\"1\" class=\"dataframe\">\n",
       "  <thead>\n",
       "    <tr style=\"text-align: right;\">\n",
       "      <th></th>\n",
       "      <th>timestamp</th>\n",
       "      <th>message</th>\n",
       "      <th>has_emoji</th>\n",
       "      <th>author_orig</th>\n",
       "      <th>author</th>\n",
       "    </tr>\n",
       "  </thead>\n",
       "  <tbody>\n",
       "    <tr>\n",
       "      <th>0</th>\n",
       "      <td>2022-02-17 13:15:00+00:00</td>\n",
       "      <td>Many wishes!!! From all of us🤗😘😘🎊</td>\n",
       "      <td>True</td>\n",
       "      <td>knee-slapping-buffalo</td>\n",
       "      <td>hypnotic-worm</td>\n",
       "    </tr>\n",
       "    <tr>\n",
       "      <th>1</th>\n",
       "      <td>2022-02-17 13:28:00+00:00</td>\n",
       "      <td>Auguri 🎂🎂🎉🎉</td>\n",
       "      <td>True</td>\n",
       "      <td>playful-oyster</td>\n",
       "      <td>swift-porpoise</td>\n",
       "    </tr>\n",
       "    <tr>\n",
       "      <th>2</th>\n",
       "      <td>2022-02-17 13:35:00+00:00</td>\n",
       "      <td>Thank you guys! 🥰🥰 so many wishes!</td>\n",
       "      <td>False</td>\n",
       "      <td>incandescent-hippocampus</td>\n",
       "      <td>quirky-ermine</td>\n",
       "    </tr>\n",
       "    <tr>\n",
       "      <th>3</th>\n",
       "      <td>2022-02-17 13:48:00+00:00</td>\n",
       "      <td>And good luck tomorrow!!!!! 🤞🤞🤞</td>\n",
       "      <td>False</td>\n",
       "      <td>knee-slapping-buffalo</td>\n",
       "      <td>hypnotic-worm</td>\n",
       "    </tr>\n",
       "    <tr>\n",
       "      <th>4</th>\n",
       "      <td>2022-02-17 13:54:00+00:00</td>\n",
       "      <td>Happy birthday Jiangxi Fei! 🥳🥳🥳🥳🥳🥳</td>\n",
       "      <td>False</td>\n",
       "      <td>lively-vicuña</td>\n",
       "      <td>hooting-swallow</td>\n",
       "    </tr>\n",
       "  </tbody>\n",
       "</table>\n",
       "</div>"
      ],
      "text/plain": [
       "                  timestamp                             message  has_emoji  \\\n",
       "0 2022-02-17 13:15:00+00:00   Many wishes!!! From all of us🤗😘😘🎊       True   \n",
       "1 2022-02-17 13:28:00+00:00                         Auguri 🎂🎂🎉🎉       True   \n",
       "2 2022-02-17 13:35:00+00:00  Thank you guys! 🥰🥰 so many wishes!      False   \n",
       "3 2022-02-17 13:48:00+00:00     And good luck tomorrow!!!!! 🤞🤞🤞      False   \n",
       "4 2022-02-17 13:54:00+00:00  Happy birthday Jiangxi Fei! 🥳🥳🥳🥳🥳🥳      False   \n",
       "\n",
       "                author_orig           author  \n",
       "0     knee-slapping-buffalo    hypnotic-worm  \n",
       "1            playful-oyster   swift-porpoise  \n",
       "2  incandescent-hippocampus    quirky-ermine  \n",
       "3     knee-slapping-buffalo    hypnotic-worm  \n",
       "4             lively-vicuña  hooting-swallow  "
      ]
     },
     "execution_count": 189,
     "metadata": {},
     "output_type": "execute_result"
    }
   ],
   "source": [
    "# Rename anon_author -> author for analyses, preserve author_orig for lookup\n",
    "df.rename(columns={\"anon_author\": \"author\"}, inplace=True)\n",
    "df.head()"
   ]
  },
  {
   "cell_type": "code",
   "execution_count": 190,
   "metadata": {},
   "outputs": [
    {
     "data": {
      "text/html": [
       "<div>\n",
       "<style scoped>\n",
       "    .dataframe tbody tr th:only-of-type {\n",
       "        vertical-align: middle;\n",
       "    }\n",
       "\n",
       "    .dataframe tbody tr th {\n",
       "        vertical-align: top;\n",
       "    }\n",
       "\n",
       "    .dataframe thead th {\n",
       "        text-align: right;\n",
       "    }\n",
       "</style>\n",
       "<table border=\"1\" class=\"dataframe\">\n",
       "  <thead>\n",
       "    <tr style=\"text-align: right;\">\n",
       "      <th></th>\n",
       "      <th>timestamp</th>\n",
       "      <th>message</th>\n",
       "      <th>has_emoji</th>\n",
       "      <th>author_orig</th>\n",
       "      <th>author</th>\n",
       "    </tr>\n",
       "  </thead>\n",
       "  <tbody>\n",
       "    <tr>\n",
       "      <th>0</th>\n",
       "      <td>2022-02-17 13:15:00+00:00</td>\n",
       "      <td>Many wishes!!! From all of us🤗😘😘🎊</td>\n",
       "      <td>True</td>\n",
       "      <td>knee-slapping-buffalo</td>\n",
       "      <td>hypnotic-worm</td>\n",
       "    </tr>\n",
       "    <tr>\n",
       "      <th>1</th>\n",
       "      <td>2022-02-17 13:28:00+00:00</td>\n",
       "      <td>Auguri 🎂🎂🎉🎉</td>\n",
       "      <td>True</td>\n",
       "      <td>playful-oyster</td>\n",
       "      <td>swift-porpoise</td>\n",
       "    </tr>\n",
       "    <tr>\n",
       "      <th>2</th>\n",
       "      <td>2022-02-17 13:35:00+00:00</td>\n",
       "      <td>Thank you guys! 🥰🥰 so many wishes!</td>\n",
       "      <td>False</td>\n",
       "      <td>incandescent-hippocampus</td>\n",
       "      <td>quirky-ermine</td>\n",
       "    </tr>\n",
       "    <tr>\n",
       "      <th>3</th>\n",
       "      <td>2022-02-17 13:48:00+00:00</td>\n",
       "      <td>And good luck tomorrow!!!!! 🤞🤞🤞</td>\n",
       "      <td>False</td>\n",
       "      <td>knee-slapping-buffalo</td>\n",
       "      <td>hypnotic-worm</td>\n",
       "    </tr>\n",
       "    <tr>\n",
       "      <th>4</th>\n",
       "      <td>2022-02-17 13:54:00+00:00</td>\n",
       "      <td>Happy birthday Jiangxi Fei! 🥳🥳🥳🥳🥳🥳</td>\n",
       "      <td>False</td>\n",
       "      <td>lively-vicuña</td>\n",
       "      <td>hooting-swallow</td>\n",
       "    </tr>\n",
       "  </tbody>\n",
       "</table>\n",
       "</div>"
      ],
      "text/plain": [
       "                  timestamp                             message  has_emoji  \\\n",
       "0 2022-02-17 13:15:00+00:00   Many wishes!!! From all of us🤗😘😘🎊       True   \n",
       "1 2022-02-17 13:28:00+00:00                         Auguri 🎂🎂🎉🎉       True   \n",
       "2 2022-02-17 13:35:00+00:00  Thank you guys! 🥰🥰 so many wishes!      False   \n",
       "3 2022-02-17 13:48:00+00:00     And good luck tomorrow!!!!! 🤞🤞🤞      False   \n",
       "4 2022-02-17 13:54:00+00:00  Happy birthday Jiangxi Fei! 🥳🥳🥳🥳🥳🥳      False   \n",
       "\n",
       "                author_orig           author  \n",
       "0     knee-slapping-buffalo    hypnotic-worm  \n",
       "1            playful-oyster   swift-porpoise  \n",
       "2  incandescent-hippocampus    quirky-ermine  \n",
       "3     knee-slapping-buffalo    hypnotic-worm  \n",
       "4             lively-vicuña  hooting-swallow  "
      ]
     },
     "execution_count": 190,
     "metadata": {},
     "output_type": "execute_result"
    }
   ],
   "source": [
    "df.head()"
   ]
  },
  {
   "cell_type": "markdown",
   "metadata": {},
   "source": [
    "In my case, the first line is a header, saying messages are encrypted. Let's remove that. Your data might be different, so double check if you also want to remove the first line!"
   ]
  },
  {
   "cell_type": "code",
   "execution_count": 191,
   "metadata": {},
   "outputs": [],
   "source": [
    "df = df.drop(index=[0])"
   ]
  },
  {
   "cell_type": "markdown",
   "metadata": {},
   "source": [
    "let's check:"
   ]
  },
  {
   "cell_type": "code",
   "execution_count": 192,
   "metadata": {},
   "outputs": [
    {
     "data": {
      "text/html": [
       "<div>\n",
       "<style scoped>\n",
       "    .dataframe tbody tr th:only-of-type {\n",
       "        vertical-align: middle;\n",
       "    }\n",
       "\n",
       "    .dataframe tbody tr th {\n",
       "        vertical-align: top;\n",
       "    }\n",
       "\n",
       "    .dataframe thead th {\n",
       "        text-align: right;\n",
       "    }\n",
       "</style>\n",
       "<table border=\"1\" class=\"dataframe\">\n",
       "  <thead>\n",
       "    <tr style=\"text-align: right;\">\n",
       "      <th></th>\n",
       "      <th>timestamp</th>\n",
       "      <th>message</th>\n",
       "      <th>has_emoji</th>\n",
       "      <th>author_orig</th>\n",
       "      <th>author</th>\n",
       "    </tr>\n",
       "  </thead>\n",
       "  <tbody>\n",
       "    <tr>\n",
       "      <th>1</th>\n",
       "      <td>2022-02-17 13:28:00+00:00</td>\n",
       "      <td>Auguri 🎂🎂🎉🎉</td>\n",
       "      <td>True</td>\n",
       "      <td>playful-oyster</td>\n",
       "      <td>swift-porpoise</td>\n",
       "    </tr>\n",
       "    <tr>\n",
       "      <th>2</th>\n",
       "      <td>2022-02-17 13:35:00+00:00</td>\n",
       "      <td>Thank you guys! 🥰🥰 so many wishes!</td>\n",
       "      <td>False</td>\n",
       "      <td>incandescent-hippocampus</td>\n",
       "      <td>quirky-ermine</td>\n",
       "    </tr>\n",
       "    <tr>\n",
       "      <th>3</th>\n",
       "      <td>2022-02-17 13:48:00+00:00</td>\n",
       "      <td>And good luck tomorrow!!!!! 🤞🤞🤞</td>\n",
       "      <td>False</td>\n",
       "      <td>knee-slapping-buffalo</td>\n",
       "      <td>hypnotic-worm</td>\n",
       "    </tr>\n",
       "    <tr>\n",
       "      <th>4</th>\n",
       "      <td>2022-02-17 13:54:00+00:00</td>\n",
       "      <td>Happy birthday Jiangxi Fei! 🥳🥳🥳🥳🥳🥳</td>\n",
       "      <td>False</td>\n",
       "      <td>lively-vicuña</td>\n",
       "      <td>hooting-swallow</td>\n",
       "    </tr>\n",
       "    <tr>\n",
       "      <th>5</th>\n",
       "      <td>2022-02-17 13:54:00+00:00</td>\n",
       "      <td>&lt;Media omitted&gt;</td>\n",
       "      <td>False</td>\n",
       "      <td>incandescent-hippocampus</td>\n",
       "      <td>quirky-ermine</td>\n",
       "    </tr>\n",
       "  </tbody>\n",
       "</table>\n",
       "</div>"
      ],
      "text/plain": [
       "                  timestamp                             message  has_emoji  \\\n",
       "1 2022-02-17 13:28:00+00:00                         Auguri 🎂🎂🎉🎉       True   \n",
       "2 2022-02-17 13:35:00+00:00  Thank you guys! 🥰🥰 so many wishes!      False   \n",
       "3 2022-02-17 13:48:00+00:00     And good luck tomorrow!!!!! 🤞🤞🤞      False   \n",
       "4 2022-02-17 13:54:00+00:00  Happy birthday Jiangxi Fei! 🥳🥳🥳🥳🥳🥳      False   \n",
       "5 2022-02-17 13:54:00+00:00                     <Media omitted>      False   \n",
       "\n",
       "                author_orig           author  \n",
       "1            playful-oyster   swift-porpoise  \n",
       "2  incandescent-hippocampus    quirky-ermine  \n",
       "3     knee-slapping-buffalo    hypnotic-worm  \n",
       "4             lively-vicuña  hooting-swallow  \n",
       "5  incandescent-hippocampus    quirky-ermine  "
      ]
     },
     "execution_count": 192,
     "metadata": {},
     "output_type": "execute_result"
    }
   ],
   "source": [
    "df.head()"
   ]
  },
  {
   "cell_type": "markdown",
   "metadata": {},
   "source": [
    "Let's find emojis in the text and add that as a feature."
   ]
  },
  {
   "cell_type": "code",
   "execution_count": 193,
   "metadata": {},
   "outputs": [],
   "source": [
    "emoji_pattern = re.compile(\n",
    "    \"[\"\n",
    "    \"\\U0001f600-\\U0001f64f\"  # emoticons\n",
    "    \"\\U0001f300-\\U0001f5ff\"  # symbols & pictographs\n",
    "    \"\\U0001f680-\\U0001f6ff\"  # transport & map symbols\n",
    "    \"\\U0001f1e0-\\U0001f1ff\"  # flags (iOS)\n",
    "    \"\\U00002702-\\U000027b0\"  # Dingbats\n",
    "    \"\\U000024c2-\\U0001f251\"\n",
    "    \"]+\",\n",
    "    flags=re.UNICODE,\n",
    ")\n",
    "\n",
    "\n",
    "def has_emoji(text):\n",
    "    if not isinstance(text, str):  # Check if the input is a string resolved error\n",
    "        return False\n",
    "    return bool(emoji_pattern.search(text)) \n",
    "\n",
    "\n",
    "df[\"has_emoji\"] = df[\"message\"].apply(has_emoji)"
   ]
  },
  {
   "cell_type": "markdown",
   "metadata": {},
   "source": [
    "Let's create a timestamp for a new, unique, filename."
   ]
  },
  {
   "cell_type": "code",
   "execution_count": 194,
   "metadata": {},
   "outputs": [
    {
     "data": {
      "text/plain": [
       "'20250914-210507'"
      ]
     },
     "execution_count": 194,
     "metadata": {},
     "output_type": "execute_result"
    }
   ],
   "source": [
    "import pytz\n",
    "\n",
    "now = datetime.now(tz=pytz.timezone('Europe/Amsterdam')).strftime(\"%Y%m%d-%H%M%S\")\n",
    "now"
   ]
  },
  {
   "cell_type": "code",
   "execution_count": 195,
   "metadata": {},
   "outputs": [
    {
     "data": {
      "text/plain": [
       "PosixPath('../data/processed/whatsapp-20250914-210507.csv')"
      ]
     },
     "execution_count": 195,
     "metadata": {},
     "output_type": "execute_result"
    }
   ],
   "source": [
    "output = processed / f\"whatsapp-{now}.csv\"\n",
    "output"
   ]
  },
  {
   "cell_type": "markdown",
   "metadata": {},
   "source": [
    "Let's save the file both as a csv and as a parquet file.\n",
    "Parquet has some advantages:\n",
    "- its about 100x faster to read and write\n",
    "- datatypes are preserved (eg the timestamp type). You will loose this in a csv file.\n",
    "- file size is much smaller\n",
    "\n",
    "The advantage of csv is that you can easily peak at the data in a text editor."
   ]
  },
  {
   "cell_type": "code",
   "execution_count": 196,
   "metadata": {},
   "outputs": [],
   "source": [
    "df.to_csv(output, index=False)\n",
    "df.to_parquet(output.with_suffix(\".parq\"), index=False)"
   ]
  },
  {
   "cell_type": "markdown",
   "metadata": {},
   "source": [
    "Now, go to `config.toml` and change the name by \"current\" to the parquet file you just created.\n",
    "This makes it easier to use the same file everywhere, without the need to continuously retype the name if you change it."
   ]
  }
 ],
 "metadata": {
  "kernelspec": {
   "display_name": ".venv",
   "language": "python",
   "name": "python3"
  },
  "language_info": {
   "codemirror_mode": {
    "name": "ipython",
    "version": 3
   },
   "file_extension": ".py",
   "mimetype": "text/x-python",
   "name": "python",
   "nbconvert_exporter": "python",
   "pygments_lexer": "ipython3",
   "version": "3.12.11"
  }
 },
 "nbformat": 4,
 "nbformat_minor": 2
}
