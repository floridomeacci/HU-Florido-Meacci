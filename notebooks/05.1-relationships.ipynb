{
 "cells": [
  {
   "cell_type": "code",
   "execution_count": null,
   "metadata": {},
   "outputs": [],
   "source": [
    "import seaborn as sns\n",
    "import matplotlib.pyplot as plt\n",
    "import pandas as pd\n",
    "from pathlib import Path\n",
    "from loguru import logger\n",
    "import numpy as np\n",
    "import warnings\n",
    "warnings.filterwarnings(\"ignore\", category=FutureWarning)\n",
    "\n",
    "processed = Path(\"../data/processed\")\n",
    "datafile = processed / \"whatsapp-20240122-182706.parq\"\n",
    "datafile = processed / \"whatsapp-20240122-222233.parq\"\n",
    "if not datafile.exists():\n",
    "    logger.warning(\"Datafile does not exist. First run src/preprocess.py, and check the timestamp!\")\n",
    "df = pd.read_parquet(datafile)\n",
    "df.head()"
   ]
  },
  {
   "cell_type": "code",
   "execution_count": null,
   "metadata": {},
   "outputs": [],
   "source": [
    "def convert_to_decimal_hours(timestamp):\n",
    "    dec_hour = timestamp.hour + timestamp.minute / 60 + timestamp.second / 3600\n",
    "    return dec_hour\n",
    "\n",
    "df[\"hour\"] = df[\"timestamp\"].apply(convert_to_decimal_hours)\n",
    "df[\"log_len\"] = df[\"message_length\"].apply(lambda x: np.log(x))\n",
    "df.head()"
   ]
  },
  {
   "cell_type": "code",
   "execution_count": null,
   "metadata": {},
   "outputs": [],
   "source": [
    "sns.scatterplot(data=df, x=\"hour\", y=\"log_len\", alpha=0.2)"
   ]
  },
  {
   "cell_type": "code",
   "execution_count": null,
   "metadata": {},
   "outputs": [],
   "source": [
    "p = df.groupby([\"author\"]).agg({\n",
    "    \"message_length\": \"mean\",\n",
    "    \"has_emoji\": \"mean\",\n",
    "    \"author\": \"count\"\n",
    "}).rename(columns={\"author\": \"count\"})\n",
    "\n",
    "p = p[p[\"count\"] > 10]\n",
    "sns.scatterplot(data=p, x=\"message_length\", y=\"has_emoji\", alpha=0.5)\n",
    "p"
   ]
  },
  {
   "cell_type": "code",
   "execution_count": null,
   "metadata": {},
   "outputs": [],
   "source": [
    "sns.scatterplot(data=p, x=\"message_length\", y=\"has_emoji\", size=\"count\", sizes=(10, 500), alpha=0.3)"
   ]
  },
  {
   "cell_type": "code",
   "execution_count": null,
   "metadata": {},
   "outputs": [],
   "source": [
    "p[\"message_length\"] /= p[\"message_length\"].max()\n",
    "p[\"has_emoji\"] /= p[\"has_emoji\"].max()\n",
    "p[\"color\"] = p.apply(lambda x: \"grey\" if x[\"message_length\"] > x[\"has_emoji\"] else \"red\", axis=1)\n",
    "\n",
    "sns.scatterplot(data=p, y=\"message_length\", x=0, color=\"grey\")\n",
    "sns.scatterplot(data=p, y=\"has_emoji\", x=1, color=\"grey\")\n",
    "for index, row in p.iterrows():\n",
    "    sns.lineplot(x=[0, 1], y=[row[\"message_length\"], row[\"has_emoji\"]], color=row[\"color\"])"
   ]
  }
 ],
 "metadata": {
  "kernelspec": {
   "display_name": ".venv",
   "language": "python",
   "name": "python3"
  },
  "language_info": {
   "codemirror_mode": {
    "name": "ipython",
    "version": 3
   },
   "file_extension": ".py",
   "mimetype": "text/x-python",
   "name": "python",
   "nbconvert_exporter": "python",
   "pygments_lexer": "ipython3",
   "version": "3.11.5"
  }
 },
 "nbformat": 4,
 "nbformat_minor": 2
}
