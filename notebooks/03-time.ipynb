{
 "cells": [
  {
   "cell_type": "code",
   "execution_count": null,
   "metadata": {},
   "outputs": [],
   "source": [
    "import seaborn as sns\n",
    "import matplotlib.pyplot as plt\n",
    "import pandas as pd\n",
    "from pathlib import Path\n",
    "from loguru import logger\n",
    "import warnings\n",
    "warnings.filterwarnings(\"ignore\", category=FutureWarning)\n",
    "\n",
    "processed = Path(\"../data/processed\")\n",
    "datafile = processed / \"whatsapp-20240122-182706.parq\"\n",
    "datafile = processed / \"whatsapp-20240122-222233.parq\"\n",
    "if not datafile.exists():\n",
    "    logger.warning(\"Datafile does not exist. First run src/preprocess.py, and check the timestamp!\")"
   ]
  },
  {
   "cell_type": "code",
   "execution_count": null,
   "metadata": {},
   "outputs": [],
   "source": [
    "df = pd.read_parquet(datafile)\n",
    "df"
   ]
  },
  {
   "cell_type": "markdown",
   "metadata": {},
   "source": [
    "Let's extract some more info from the timestamp:"
   ]
  },
  {
   "cell_type": "code",
   "execution_count": null,
   "metadata": {},
   "outputs": [],
   "source": [
    "df[\"date\"] = df[\"timestamp\"].dt.date\n",
    "df[\"isoweek\"] = df[\"timestamp\"].dt.isocalendar().week\n",
    "df.head()\n"
   ]
  },
  {
   "cell_type": "markdown",
   "metadata": {},
   "source": [
    "Now, we can group by the isoweeks, for example. \n",
    "Let's reindex in order to fill the missing weeks."
   ]
  },
  {
   "cell_type": "code",
   "execution_count": null,
   "metadata": {},
   "outputs": [],
   "source": [
    "p = df.groupby(\"isoweek\").count()\n",
    "p.head()"
   ]
  },
  {
   "cell_type": "code",
   "execution_count": null,
   "metadata": {},
   "outputs": [],
   "source": [
    "# lets reindex the isoweeks. This wont work if you have multiple years!\n",
    "p = p.reindex(range(int(p.index.min()), int(p.index.max()) + 1), fill_value=0)\n",
    "sns.scatterplot(data=p, x=\"isoweek\", y=\"timestamp\")\n",
    "sns.lineplot(data=p, x=\"isoweek\", y=\"timestamp\")"
   ]
  },
  {
   "cell_type": "markdown",
   "metadata": {},
   "source": [
    "Try to play with the colors. Make sure adding colors conveys a message, and isnt randomly adding colors."
   ]
  },
  {
   "cell_type": "code",
   "execution_count": null,
   "metadata": {},
   "outputs": [],
   "source": [
    "p = df.groupby([\"author\", \"isoweek\"]).count()\n",
    "sns.scatterplot(data=p, x=\"isoweek\", y=\"timestamp\", hue=\"author\", legend=False)\n",
    "sns.lineplot(data=p, x=\"isoweek\", y=\"timestamp\", legend=False)"
   ]
  },
  {
   "cell_type": "code",
   "execution_count": null,
   "metadata": {},
   "outputs": [],
   "source": [
    "df = pd.read_parquet(datafile)\n",
    "df[\"date\"] = df[\"timestamp\"].dt.date\n",
    "df[\"day_of_week\"] = df[\"timestamp\"].dt.day_name()\n",
    "df_agg = df.groupby(['date', 'day_of_week']).size().reset_index(name='message_count')\n",
    "df_agg"
   ]
  },
  {
   "cell_type": "code",
   "execution_count": null,
   "metadata": {},
   "outputs": [],
   "source": [
    "\n",
    "# Set the order of the days of the week\n",
    "days_order = ['Monday', 'Tuesday', 'Wednesday', 'Thursday', 'Friday', 'Saturday', 'Sunday']\n",
    "\n",
    "# Create a FacetGrid to plot the line plots for each day of the week\n",
    "g = sns.FacetGrid(df_agg, col='day_of_week', col_wrap=4, height=3, col_order=days_order)\n",
    "g.map(sns.scatterplot, 'date', 'message_count')\n",
    "g.map(sns.lineplot, 'date', 'message_count')\n",
    "g.set(xticks=[])\n",
    "g.despine(left=True, bottom=False)"
   ]
  },
  {
   "cell_type": "code",
   "execution_count": null,
   "metadata": {},
   "outputs": [],
   "source": [
    "df.head()"
   ]
  },
  {
   "cell_type": "code",
   "execution_count": null,
   "metadata": {},
   "outputs": [],
   "source": [
    "import plotly.express as px\n",
    "# first count the number for every category, for every date\n",
    "p = df.groupby([\"date\", \"timestamp_category\"]).size().reset_index(name='message_count')\n",
    "# then, make the count cumulative for every category\n",
    "p['cumulative_count'] = p.groupby('timestamp_category')['message_count'].cumsum()\n",
    "\n",
    "fig = px.area(p, x=\"date\", y=\"cumulative_count\", color=\"timestamp_category\",\n",
    "              line_group=\"timestamp_category\", labels={\"cumulative_count\": \"Cumulative Message Count\"})\n",
    "fig.show()"
   ]
  }
 ],
 "metadata": {
  "kernelspec": {
   "display_name": ".venv",
   "language": "python",
   "name": "python3"
  },
  "language_info": {
   "codemirror_mode": {
    "name": "ipython",
    "version": 3
   },
   "file_extension": ".py",
   "mimetype": "text/x-python",
   "name": "python",
   "nbconvert_exporter": "python",
   "pygments_lexer": "ipython3",
   "version": "3.11.5"
  }
 },
 "nbformat": 4,
 "nbformat_minor": 2
}
