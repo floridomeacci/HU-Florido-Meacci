{
 "cells": [
  {
   "cell_type": "code",
   "execution_count": null,
   "metadata": {},
   "outputs": [],
   "source": [
    "import seaborn as sns\n",
    "import matplotlib.pyplot as plt\n",
    "import pandas as pd\n",
    "from pathlib import Path\n",
    "from loguru import logger\n",
    "import warnings\n",
    "warnings.filterwarnings(\"ignore\", category=FutureWarning)"
   ]
  },
  {
   "cell_type": "code",
   "execution_count": null,
   "metadata": {},
   "outputs": [],
   "source": [
    "processed = Path(\"../data/processed\")\n",
    "datafile = processed / \"whatsapp-20240122-182706.parq\"\n",
    "datafile = processed / \"whatsapp-20240122-222233.parq\"\n",
    "if not datafile.exists():\n",
    "    logger.warning(\"Datafile does not exist. First run src/preprocess.py, and check the timestamp!\")"
   ]
  },
  {
   "cell_type": "code",
   "execution_count": null,
   "metadata": {},
   "outputs": [],
   "source": [
    "df = pd.read_parquet(datafile)\n",
    "df"
   ]
  },
  {
   "cell_type": "code",
   "execution_count": null,
   "metadata": {},
   "outputs": [],
   "source": [
    "df[\"timestamp\"].agg([\"min\", \"max\"])"
   ]
  },
  {
   "cell_type": "code",
   "execution_count": null,
   "metadata": {},
   "outputs": [],
   "source": [
    "df[\"date\"] = df[\"timestamp\"].dt.date\n",
    "df[\"isoweek\"] = df[\"timestamp\"].dt.isocalendar().week\n",
    "p = df.groupby(\"isoweek\").count()\n",
    "\n",
    "# Reindex to include missing isoweeks with value 0\n",
    "p = p.reindex(range(p.index.min(), p.index.max() + 1), fill_value=0)\n",
    "\n",
    "sns.scatterplot(data=p, x=\"isoweek\", y=\"timestamp\")\n",
    "sns.lineplot(data=p, x=\"isoweek\", y=\"timestamp\")"
   ]
  },
  {
   "cell_type": "code",
   "execution_count": null,
   "metadata": {},
   "outputs": [],
   "source": [
    "all_authors = df['author'].unique()\n",
    "all_isoweeks = df['isoweek'].unique()\n",
    "all_combinations = pd.MultiIndex.from_product([all_authors, all_isoweeks], names=['author', 'isoweek'])\n",
    "complete_df = pd.DataFrame(index=all_combinations).reset_index()\n",
    "\n",
    "# Step 2: Merge with the original DataFrame\n",
    "merged_df = pd.merge(complete_df, df, on=['author', 'isoweek'], how='left')\n",
    "\n",
    "# Step 3: Replace NaN values with zero\n",
    "merged_df.fillna(0, inplace=True)"
   ]
  },
  {
   "cell_type": "code",
   "execution_count": null,
   "metadata": {},
   "outputs": [],
   "source": [
    "p = merged_df.groupby([\"author\", \"isoweek\"]).count().reset_index()\n"
   ]
  },
  {
   "cell_type": "code",
   "execution_count": null,
   "metadata": {},
   "outputs": [],
   "source": [
    "sns.lineplot(data=p, x=\"isoweek\", y=\"timestamp\", legend=False)"
   ]
  },
  {
   "cell_type": "code",
   "execution_count": null,
   "metadata": {},
   "outputs": [],
   "source": [
    "sns.lineplot(data=p, x=\"isoweek\", y=\"timestamp\", hue='author', legend=False)\n",
    "ax = plt.gca()\n",
    "for line in ax.lines:\n",
    "    line.set_color('grey')\n"
   ]
  }
 ],
 "metadata": {
  "kernelspec": {
   "display_name": ".venv",
   "language": "python",
   "name": "python3"
  },
  "language_info": {
   "codemirror_mode": {
    "name": "ipython",
    "version": 3
   },
   "file_extension": ".py",
   "mimetype": "text/x-python",
   "name": "python",
   "nbconvert_exporter": "python",
   "pygments_lexer": "ipython3",
   "version": "3.11.5"
  }
 },
 "nbformat": 4,
 "nbformat_minor": 2
}
