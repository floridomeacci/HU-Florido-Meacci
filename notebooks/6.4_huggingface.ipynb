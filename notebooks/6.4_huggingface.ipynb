{
 "cells": [
  {
   "cell_type": "code",
   "execution_count": null,
   "metadata": {},
   "outputs": [],
   "source": [
    "import torch\n",
    "import seaborn as sns\n",
    "import matplotlib.pyplot as plt"
   ]
  },
  {
   "cell_type": "markdown",
   "metadata": {},
   "source": [
    "We can use transfer learning to extract more types of features from our texts. There are a few things to consider when taking this approach:\n",
    "\n",
    "- the models are pretrained on a corpus of texts. This can have a lot of impact; consider for example the difference between a \"sentiment\" model trained on movie reviews and one trained on tweets. The might grasps sort of the same concept, but the words used and the way they are used are different. If you are going to use this model to estimate the sentiment of, let's say, emails sent in a business context, you might get unexpected results.\n",
    "- There are really a lot of different models on huggingface. It can be usefull to browse around in the model hub to see what is available, and try to find something that is close to your use case."
   ]
  },
  {
   "cell_type": "markdown",
   "metadata": {},
   "source": [
    "# Sentiment models\n",
    "Sentiment models follow the following recipe:\n",
    "\n",
    "1. map strings into tokens (arbitray integers)\n",
    "2. map tokens into embeddings; this are high dimensional (eg 784 dimensions) vectors that represent the meaning of the words\n",
    "3. do a lot of non-linear transformations on the embedding \n",
    "4. the final embedding is reduced from 784 dimension back to either a single value, sometimes into three values (positive, neutral, negative)."
   ]
  },
  {
   "cell_type": "code",
   "execution_count": null,
   "metadata": {},
   "outputs": [],
   "source": [
    "from transformers import pipeline\n",
    "\n",
    "# models are downloaded to ~/.cache/huggingface/hub.\n",
    "# you might want to clean up that location after you are done with the models\n",
    "model = pipeline(\n",
    "    model=\"lxyuan/distilbert-base-multilingual-cased-sentiments-student\",\n",
    "    top_k=None,\n",
    ")\n",
    "\n",
    "# english\n",
    "model(\"I love this movie and i would watch it again and again!\")"
   ]
  },
  {
   "cell_type": "markdown",
   "metadata": {},
   "source": [
    "If you run this the first time, it will download the model from huggingface hub.\n",
    "The second run will be much faster. You will get three outputs: positive, neutral and negative. The sum of these three is 1, because it is a probability distribution.\n",
    "\n",
    "It would be straightforward to use this on your own dataset. For example:"
   ]
  },
  {
   "cell_type": "code",
   "execution_count": null,
   "metadata": {},
   "outputs": [],
   "source": [
    "from pathlib import Path\n",
    "import pandas as pd\n",
    "processed = Path(\"../data/processed\")\n",
    "datafile = processed / \"whatsapp-20240122-182706.parq\"\n",
    "# datafile = processed / \"whatsapp-20240122-222233.parq\"\n",
    "if not datafile.exists():\n",
    "    logger.warning(\"Datafile does not exist. First run src/preprocess.py, and check the timestamp!\")\n",
    "df = pd.read_parquet(datafile)\n",
    "df.head()"
   ]
  },
  {
   "cell_type": "code",
   "execution_count": null,
   "metadata": {},
   "outputs": [],
   "source": [
    "from tqdm import tqdm\n",
    "from loguru import logger\n",
    "data = []\n",
    "for i, row in tqdm(df.iterrows(), total=len(df)):\n",
    "    author = row[\"author\"]\n",
    "    message = row[\"message\"]\n",
    "    try:\n",
    "        sentiment = model(message)[0]\n",
    "    except Exception as e:\n",
    "        logger.warning(f\"Failed to process message {i}: {message}\")\n",
    "        logger.warning(f\"Error: {e}\")\n",
    "    data.append((author, message, sentiment))\n"
   ]
  },
  {
   "cell_type": "markdown",
   "metadata": {},
   "source": [
    "After this, you should be able to use the output as a simple new feature. You could, for example, extract the \"positive\" value and plot it. Or you could aggregate the sentiment over a certain timeframe. Or plot distributions of sentiment over different authors, etc.\n",
    "\n",
    "For example:"
   ]
  },
  {
   "cell_type": "code",
   "execution_count": null,
   "metadata": {},
   "outputs": [],
   "source": [
    "data = [(author, msg, pos[\"score\"], neg[\"score\"], neut[\"score\"]) for author, msg, (pos, neg, neut) in data]\n",
    "df_sentiment = pd.DataFrame(data, columns=[\"author\", \"message\", \"positive\", \"negative\", \"neutral\"])\n",
    "df_sentiment.head()"
   ]
  },
  {
   "cell_type": "code",
   "execution_count": null,
   "metadata": {},
   "outputs": [],
   "source": [
    "threshold = df_sentiment.positive.median() * 1.1\n",
    "colors = df_sentiment.groupby(\"author\").positive.median().sort_values().reset_index()\n",
    "colors[\"color\"] = colors.positive.apply(lambda x: x > threshold)\n",
    "colors.drop(\"positive\", axis=1, inplace=True)\n",
    "colors.head()"
   ]
  },
  {
   "cell_type": "code",
   "execution_count": null,
   "metadata": {},
   "outputs": [],
   "source": [
    "color_map = {True: \"red\", False: \"grey\"}\n",
    "for author in colors.author:\n",
    "    subset = df_sentiment[df_sentiment.author == author]\n",
    "    colorgroup = colors[colors.author == author].color.values[0]\n",
    "    sns.kdeplot(subset.positive, color=color_map[colorgroup], label=author, legend=True)\n",
    "plt.legend(title='Author', bbox_to_anchor=(1.05, 1), loc='upper left')\n"
   ]
  },
  {
   "cell_type": "markdown",
   "metadata": {},
   "source": [
    "# Mapping text to a semantic vectorspace"
   ]
  },
  {
   "cell_type": "markdown",
   "metadata": {},
   "source": [
    "Instead of mapping the result of the non-linear transformations to just one dimension of sentiment, we can pick a more general model that doesnt do this. This model is \"just\" trained on a lot of textual data, and the output vectors will represent the meaning of the text in a high dimensional space. This can be used to compare the meaning of different texts, or to use as input for a classifier."
   ]
  },
  {
   "cell_type": "code",
   "execution_count": null,
   "metadata": {},
   "outputs": [],
   "source": [
    "from sentence_transformers import SentenceTransformer\n",
    "sentences = [\"This is an example sentence\", \"Each sentence is converted\"]\n",
    "\n",
    "model = SentenceTransformer('sentence-transformers/all-MiniLM-L6-v2')\n",
    "embeddings = model.encode(sentences)\n",
    "print(f\"Embedding shape: {embeddings.shape}\")"
   ]
  },
  {
   "cell_type": "markdown",
   "metadata": {},
   "source": [
    "As you can see, we input two sentences, and the output in this case are two vectors, 384 dimensions each. \n",
    "\n",
    "I will try to filter the text that are too short (eg more than just \"hi\" and \"hello\") to see if we can get a bit more interesting results."
   ]
  },
  {
   "cell_type": "code",
   "execution_count": null,
   "metadata": {},
   "outputs": [],
   "source": [
    "sns.histplot(x=np.log(df[\"message_length\"]))"
   ]
  },
  {
   "cell_type": "markdown",
   "metadata": {},
   "source": [
    "<img src=\"../img/message_length.png\" width=450 height=400 />"
   ]
  },
  {
   "cell_type": "markdown",
   "metadata": {},
   "source": [
    "My dataset seems to have a median message length of log(x) = 4, so lets take 5 as a cutoff"
   ]
  },
  {
   "cell_type": "code",
   "execution_count": null,
   "metadata": {},
   "outputs": [],
   "source": [
    "subset = df[np.log(df[\"message_length\"]) > 5].reset_index(drop=True)\n",
    "subset"
   ]
  },
  {
   "cell_type": "markdown",
   "metadata": {},
   "source": [
    "Let's make a new class to keep metadata and the output neatly together."
   ]
  },
  {
   "cell_type": "code",
   "execution_count": null,
   "metadata": {},
   "outputs": [],
   "source": [
    "from dataclasses import dataclass\n",
    "import numpy as np\n",
    "\n",
    "@dataclass\n",
    "class Embedding:\n",
    "    metadata: list\n",
    "    vectors: np.ndarray\n",
    "\n",
    "    def __getitem__(self, idx: int) -> tuple:\n",
    "        return (self.vectors[idx], self.metadata[idx])\n",
    "\n",
    "    def __len__(self) -> int:\n",
    "        return len(self.metadata)\n",
    "\n",
    "    def __repr__(self) -> str:\n",
    "        return f\"Embedding, dims={self.vectors.shape}\""
   ]
  },
  {
   "cell_type": "markdown",
   "metadata": {},
   "source": [
    "We can process all data"
   ]
  },
  {
   "cell_type": "code",
   "execution_count": null,
   "metadata": {},
   "outputs": [],
   "source": [
    "from tqdm import tqdm\n",
    "metadata = {}\n",
    "text = []\n",
    "for idx, row in tqdm(subset.iterrows(), total=len(subset)):\n",
    "    author = row[\"author\"]\n",
    "    message = row[\"message\"]\n",
    "    timestamp = row[\"timestamp\"]\n",
    "    metadata[idx] = {\"author\": author, \"message\": message, \"timestamp\": timestamp}\n",
    "    text.append(message)"
   ]
  },
  {
   "cell_type": "markdown",
   "metadata": {},
   "source": [
    "Now, we use the model to encode every message. \n",
    "if the length of your text is not too big, this will work in one go\n",
    "otherwise, you might want to split the text into smaller chunks, encode the chunks,\n",
    "and then concatenate the results"
   ]
  },
  {
   "cell_type": "code",
   "execution_count": null,
   "metadata": {},
   "outputs": [],
   "source": [
    "vectors = model.encode(text)\n",
    "vectors.shape"
   ]
  },
  {
   "cell_type": "markdown",
   "metadata": {},
   "source": [
    "And store it in our dataclass"
   ]
  },
  {
   "cell_type": "code",
   "execution_count": null,
   "metadata": {},
   "outputs": [],
   "source": [
    "emb = Embedding(metadata, vectors)\n",
    "emb"
   ]
  },
  {
   "cell_type": "markdown",
   "metadata": {},
   "source": [
    "Let's check our `__getitem__` method"
   ]
  },
  {
   "cell_type": "code",
   "execution_count": null,
   "metadata": {},
   "outputs": [],
   "source": [
    "X, y = emb[1]\n",
    "X.shape, y"
   ]
  },
  {
   "cell_type": "markdown",
   "metadata": {},
   "source": [
    "One way to visualise this would be with PCA"
   ]
  },
  {
   "cell_type": "code",
   "execution_count": null,
   "metadata": {},
   "outputs": [],
   "source": [
    "from sklearn.decomposition import PCA\n",
    "pca = PCA(n_components=2)\n",
    "X = pca.fit_transform(emb.vectors)\n",
    "plt.figure(figsize=(10, 10))\n",
    "labels = [emb.metadata[i][\"author\"] for i in range(len(emb.metadata))]\n",
    "sns.scatterplot(x=X[:, 0], y=X[:, 1], hue=labels)\n",
    "plt.legend(title='Author', bbox_to_anchor=(1.05, 1), loc='upper left')\n"
   ]
  },
  {
   "cell_type": "markdown",
   "metadata": {},
   "source": [
    "tSNE is often better for visualising high dimensional data."
   ]
  },
  {
   "cell_type": "code",
   "execution_count": null,
   "metadata": {},
   "outputs": [],
   "source": [
    "from sklearn.manifold import TSNE\n",
    "tsne = TSNE(n_components=2)\n",
    "X = tsne.fit_transform(emb.vectors)\n",
    "plt.figure(figsize=(10, 10))\n",
    "labels = [emb.metadata[i][\"author\"] for i in range(len(emb.metadata))]\n",
    "sns.scatterplot(x=X[:, 0], y=X[:, 1], hue=labels)\n",
    "plt.legend(title='Author', bbox_to_anchor=(1.05, 1), loc='upper left')"
   ]
  },
  {
   "cell_type": "markdown",
   "metadata": {},
   "source": [
    "It might be the case that you just get a blob of points with no clear clustering. Some things to consider:\n",
    "\n",
    "- you might have just too much authors, and if you look more closely you might still find that some authors are more similar than others\n",
    "- you text messages might overall be too short and too similar. You might need to filter out more messages, or group messages of the same author together and then encode them.\n",
    "- you might want to add more structure. Eg, label some messages by hand (or with a regex) and use that as a coloring. You might find that some type of message actually do cluster together in a relevant way, just not clustered by author but more by subject.\n",
    "\n",
    "Please keep in mind that normally, when doing unsupervised clustering, you will have some idea of what you are looking for. For example, you might be looking for fraud, or you are looking for a certain sentiment, or for a specific topic. A typical strategy would be to hand-label a few items and then calculate the distance to find \"close\" items you didn't label yet. "
   ]
  },
  {
   "cell_type": "code",
   "execution_count": null,
   "metadata": {},
   "outputs": [],
   "source": [
    "avg_author = {}\n",
    "for i in range(len(emb)):\n",
    "    # for every embedding\n",
    "    X, y = emb[i]\n",
    "    # we store the embedding in a list per author, and average it later\n",
    "    avg_author[y[\"author\"]] = avg_author.get(y[\"author\"], []) + [X]\n",
    "\n",
    "for author, vectors in avg_author.items():\n",
    "    # take the average of all embeddings per author\n",
    "    avg_author[author] = np.mean(vectors, axis=0)\n",
    "# We extract all values as a single matrix\n",
    "A = np.array(list(avg_author.values()))\n",
    "labels = list(avg_author.keys())\n",
    "A.shape, len(labels)"
   ]
  },
  {
   "cell_type": "code",
   "execution_count": null,
   "metadata": {},
   "outputs": [],
   "source": [
    "sns.clustermap(A, yticklabels=labels);"
   ]
  },
  {
   "cell_type": "markdown",
   "metadata": {},
   "source": [
    "We calculate the distance between the average vector for every author"
   ]
  },
  {
   "cell_type": "code",
   "execution_count": null,
   "metadata": {},
   "outputs": [],
   "source": [
    "from scipy.spatial import distance_matrix\n",
    "from scipy.spatial.distance import squareform\n",
    "\n",
    "D = distance_matrix(A, A)\n",
    "sns.heatmap(D, yticklabels=labels, xticklabels=labels)"
   ]
  },
  {
   "cell_type": "markdown",
   "metadata": {},
   "source": [
    "We can also reduce the \"distance\" fingerprint to two dimensions and plot it.\n",
    "This will show us which authors are in a similar way close to other authors."
   ]
  },
  {
   "cell_type": "code",
   "execution_count": null,
   "metadata": {},
   "outputs": [],
   "source": [
    "pca = PCA(n_components=2)\n",
    "X = pca.fit_transform(D)\n",
    "plt.figure(figsize=(10, 10))\n",
    "sns.scatterplot(x=X[:, 0], y=X[:, 1], hue=labels)\n",
    "plt.legend(title='Author', bbox_to_anchor=(1.05, 1), loc='upper left')"
   ]
  }
 ],
 "metadata": {
  "kernelspec": {
   "display_name": ".venv",
   "language": "python",
   "name": "python3"
  },
  "language_info": {
   "codemirror_mode": {
    "name": "ipython",
    "version": 3
   },
   "file_extension": ".py",
   "mimetype": "text/x-python",
   "name": "python",
   "nbconvert_exporter": "python",
   "pygments_lexer": "ipython3",
   "version": "3.11.5"
  }
 },
 "nbformat": 4,
 "nbformat_minor": 2
}
